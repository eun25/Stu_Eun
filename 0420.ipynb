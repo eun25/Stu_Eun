{
 "cells": [
  {
   "cell_type": "code",
   "execution_count": 6,
   "id": "found-doctrine",
   "metadata": {
    "collapsed": true,
    "jupyter": {
     "outputs_hidden": true
    },
    "tags": []
   },
   "outputs": [
    {
     "name": "stdout",
     "output_type": "stream",
     "text": [
      "................................................................................................................................................................................................................................................................................................................................................................................................................................................................................................................................................................................................................................................................................................................................................................................................................................................................................................................................................................................................................................................................................................................................................................................................."
     ]
    },
    {
     "ename": "KeyboardInterrupt",
     "evalue": "",
     "output_type": "error",
     "traceback": [
      "\u001b[1;31m---------------------------------------------------------------------------\u001b[0m",
      "\u001b[1;31mKeyboardInterrupt\u001b[0m                         Traceback (most recent call last)",
      "\u001b[1;32m<ipython-input-6-712642ddea3f>\u001b[0m in \u001b[0;36m<module>\u001b[1;34m\u001b[0m\n\u001b[0;32m      3\u001b[0m \u001b[0mr\u001b[0m \u001b[1;33m=\u001b[0m \u001b[0mrequests\u001b[0m\u001b[1;33m.\u001b[0m\u001b[0mget\u001b[0m\u001b[1;33m(\u001b[0m\u001b[1;34m'http://releases.ubuntu.com/18.04.1/ubuntu-18.04.1-desktop-amd64.iso'\u001b[0m\u001b[1;33m,\u001b[0m \u001b[0mstream\u001b[0m\u001b[1;33m=\u001b[0m\u001b[1;32mTrue\u001b[0m\u001b[1;33m)\u001b[0m\u001b[1;33m\u001b[0m\u001b[1;33m\u001b[0m\u001b[0m\n\u001b[0;32m      4\u001b[0m \u001b[1;32mwith\u001b[0m \u001b[0mopen\u001b[0m\u001b[1;33m(\u001b[0m\u001b[1;34m'ubuntu-18.04.1-desktop-amd64.iso'\u001b[0m\u001b[1;33m,\u001b[0m \u001b[1;34m'wb'\u001b[0m\u001b[1;33m)\u001b[0m \u001b[1;32mas\u001b[0m \u001b[0mf\u001b[0m\u001b[1;33m:\u001b[0m\u001b[1;33m\u001b[0m\u001b[1;33m\u001b[0m\u001b[0m\n\u001b[1;32m----> 5\u001b[1;33m     \u001b[1;32mfor\u001b[0m \u001b[0mchunk\u001b[0m \u001b[1;32min\u001b[0m \u001b[0mr\u001b[0m\u001b[1;33m.\u001b[0m\u001b[0miter_content\u001b[0m\u001b[1;33m(\u001b[0m\u001b[1;36m100000\u001b[0m\u001b[1;33m)\u001b[0m\u001b[1;33m:\u001b[0m \u001b[1;31m# 100k 바이트 단위로 처리\u001b[0m\u001b[1;33m\u001b[0m\u001b[1;33m\u001b[0m\u001b[0m\n\u001b[0m\u001b[0;32m      6\u001b[0m         \u001b[0mf\u001b[0m\u001b[1;33m.\u001b[0m\u001b[0mwrite\u001b[0m\u001b[1;33m(\u001b[0m\u001b[0mchunk\u001b[0m\u001b[1;33m)\u001b[0m\u001b[1;33m\u001b[0m\u001b[1;33m\u001b[0m\u001b[0m\n\u001b[0;32m      7\u001b[0m         \u001b[0mprint\u001b[0m\u001b[1;33m(\u001b[0m\u001b[1;34m'.'\u001b[0m\u001b[1;33m,\u001b[0m \u001b[0mend\u001b[0m\u001b[1;33m=\u001b[0m\u001b[1;34m''\u001b[0m\u001b[1;33m,\u001b[0m \u001b[0mflush\u001b[0m\u001b[1;33m=\u001b[0m\u001b[1;32mTrue\u001b[0m\u001b[1;33m)\u001b[0m \u001b[1;31m# 100k 바이트를 내려받을 때마다 ,진행상황을 화면에 표시\u001b[0m\u001b[1;33m\u001b[0m\u001b[1;33m\u001b[0m\u001b[0m\n",
      "\u001b[1;32m~\\.conda\\envs\\basic\\lib\\site-packages\\requests\\models.py\u001b[0m in \u001b[0;36mgenerate\u001b[1;34m()\u001b[0m\n\u001b[0;32m    751\u001b[0m             \u001b[1;32mif\u001b[0m \u001b[0mhasattr\u001b[0m\u001b[1;33m(\u001b[0m\u001b[0mself\u001b[0m\u001b[1;33m.\u001b[0m\u001b[0mraw\u001b[0m\u001b[1;33m,\u001b[0m \u001b[1;34m'stream'\u001b[0m\u001b[1;33m)\u001b[0m\u001b[1;33m:\u001b[0m\u001b[1;33m\u001b[0m\u001b[1;33m\u001b[0m\u001b[0m\n\u001b[0;32m    752\u001b[0m                 \u001b[1;32mtry\u001b[0m\u001b[1;33m:\u001b[0m\u001b[1;33m\u001b[0m\u001b[1;33m\u001b[0m\u001b[0m\n\u001b[1;32m--> 753\u001b[1;33m                     \u001b[1;32mfor\u001b[0m \u001b[0mchunk\u001b[0m \u001b[1;32min\u001b[0m \u001b[0mself\u001b[0m\u001b[1;33m.\u001b[0m\u001b[0mraw\u001b[0m\u001b[1;33m.\u001b[0m\u001b[0mstream\u001b[0m\u001b[1;33m(\u001b[0m\u001b[0mchunk_size\u001b[0m\u001b[1;33m,\u001b[0m \u001b[0mdecode_content\u001b[0m\u001b[1;33m=\u001b[0m\u001b[1;32mTrue\u001b[0m\u001b[1;33m)\u001b[0m\u001b[1;33m:\u001b[0m\u001b[1;33m\u001b[0m\u001b[1;33m\u001b[0m\u001b[0m\n\u001b[0m\u001b[0;32m    754\u001b[0m                         \u001b[1;32myield\u001b[0m \u001b[0mchunk\u001b[0m\u001b[1;33m\u001b[0m\u001b[1;33m\u001b[0m\u001b[0m\n\u001b[0;32m    755\u001b[0m                 \u001b[1;32mexcept\u001b[0m \u001b[0mProtocolError\u001b[0m \u001b[1;32mas\u001b[0m \u001b[0me\u001b[0m\u001b[1;33m:\u001b[0m\u001b[1;33m\u001b[0m\u001b[1;33m\u001b[0m\u001b[0m\n",
      "\u001b[1;32m~\\.conda\\envs\\basic\\lib\\site-packages\\urllib3\\response.py\u001b[0m in \u001b[0;36mstream\u001b[1;34m(self, amt, decode_content)\u001b[0m\n\u001b[0;32m    574\u001b[0m         \u001b[1;32melse\u001b[0m\u001b[1;33m:\u001b[0m\u001b[1;33m\u001b[0m\u001b[1;33m\u001b[0m\u001b[0m\n\u001b[0;32m    575\u001b[0m             \u001b[1;32mwhile\u001b[0m \u001b[1;32mnot\u001b[0m \u001b[0mis_fp_closed\u001b[0m\u001b[1;33m(\u001b[0m\u001b[0mself\u001b[0m\u001b[1;33m.\u001b[0m\u001b[0m_fp\u001b[0m\u001b[1;33m)\u001b[0m\u001b[1;33m:\u001b[0m\u001b[1;33m\u001b[0m\u001b[1;33m\u001b[0m\u001b[0m\n\u001b[1;32m--> 576\u001b[1;33m                 \u001b[0mdata\u001b[0m \u001b[1;33m=\u001b[0m \u001b[0mself\u001b[0m\u001b[1;33m.\u001b[0m\u001b[0mread\u001b[0m\u001b[1;33m(\u001b[0m\u001b[0mamt\u001b[0m\u001b[1;33m=\u001b[0m\u001b[0mamt\u001b[0m\u001b[1;33m,\u001b[0m \u001b[0mdecode_content\u001b[0m\u001b[1;33m=\u001b[0m\u001b[0mdecode_content\u001b[0m\u001b[1;33m)\u001b[0m\u001b[1;33m\u001b[0m\u001b[1;33m\u001b[0m\u001b[0m\n\u001b[0m\u001b[0;32m    577\u001b[0m \u001b[1;33m\u001b[0m\u001b[0m\n\u001b[0;32m    578\u001b[0m                 \u001b[1;32mif\u001b[0m \u001b[0mdata\u001b[0m\u001b[1;33m:\u001b[0m\u001b[1;33m\u001b[0m\u001b[1;33m\u001b[0m\u001b[0m\n",
      "\u001b[1;32m~\\.conda\\envs\\basic\\lib\\site-packages\\urllib3\\response.py\u001b[0m in \u001b[0;36mread\u001b[1;34m(self, amt, decode_content, cache_content)\u001b[0m\n\u001b[0;32m    517\u001b[0m             \u001b[1;32melse\u001b[0m\u001b[1;33m:\u001b[0m\u001b[1;33m\u001b[0m\u001b[1;33m\u001b[0m\u001b[0m\n\u001b[0;32m    518\u001b[0m                 \u001b[0mcache_content\u001b[0m \u001b[1;33m=\u001b[0m \u001b[1;32mFalse\u001b[0m\u001b[1;33m\u001b[0m\u001b[1;33m\u001b[0m\u001b[0m\n\u001b[1;32m--> 519\u001b[1;33m                 \u001b[0mdata\u001b[0m \u001b[1;33m=\u001b[0m \u001b[0mself\u001b[0m\u001b[1;33m.\u001b[0m\u001b[0m_fp\u001b[0m\u001b[1;33m.\u001b[0m\u001b[0mread\u001b[0m\u001b[1;33m(\u001b[0m\u001b[0mamt\u001b[0m\u001b[1;33m)\u001b[0m \u001b[1;32mif\u001b[0m \u001b[1;32mnot\u001b[0m \u001b[0mfp_closed\u001b[0m \u001b[1;32melse\u001b[0m \u001b[1;34mb\"\"\u001b[0m\u001b[1;33m\u001b[0m\u001b[1;33m\u001b[0m\u001b[0m\n\u001b[0m\u001b[0;32m    520\u001b[0m                 if (\n\u001b[0;32m    521\u001b[0m                     \u001b[0mamt\u001b[0m \u001b[1;33m!=\u001b[0m \u001b[1;36m0\u001b[0m \u001b[1;32mand\u001b[0m \u001b[1;32mnot\u001b[0m \u001b[0mdata\u001b[0m\u001b[1;33m\u001b[0m\u001b[1;33m\u001b[0m\u001b[0m\n",
      "\u001b[1;32m~\\.conda\\envs\\basic\\lib\\http\\client.py\u001b[0m in \u001b[0;36mread\u001b[1;34m(self, amt)\u001b[0m\n\u001b[0;32m    459\u001b[0m             \u001b[1;31m# Amount is given, implement using readinto\u001b[0m\u001b[1;33m\u001b[0m\u001b[1;33m\u001b[0m\u001b[1;33m\u001b[0m\u001b[0m\n\u001b[0;32m    460\u001b[0m             \u001b[0mb\u001b[0m \u001b[1;33m=\u001b[0m \u001b[0mbytearray\u001b[0m\u001b[1;33m(\u001b[0m\u001b[0mamt\u001b[0m\u001b[1;33m)\u001b[0m\u001b[1;33m\u001b[0m\u001b[1;33m\u001b[0m\u001b[0m\n\u001b[1;32m--> 461\u001b[1;33m             \u001b[0mn\u001b[0m \u001b[1;33m=\u001b[0m \u001b[0mself\u001b[0m\u001b[1;33m.\u001b[0m\u001b[0mreadinto\u001b[0m\u001b[1;33m(\u001b[0m\u001b[0mb\u001b[0m\u001b[1;33m)\u001b[0m\u001b[1;33m\u001b[0m\u001b[1;33m\u001b[0m\u001b[0m\n\u001b[0m\u001b[0;32m    462\u001b[0m             \u001b[1;32mreturn\u001b[0m \u001b[0mmemoryview\u001b[0m\u001b[1;33m(\u001b[0m\u001b[0mb\u001b[0m\u001b[1;33m)\u001b[0m\u001b[1;33m[\u001b[0m\u001b[1;33m:\u001b[0m\u001b[0mn\u001b[0m\u001b[1;33m]\u001b[0m\u001b[1;33m.\u001b[0m\u001b[0mtobytes\u001b[0m\u001b[1;33m(\u001b[0m\u001b[1;33m)\u001b[0m\u001b[1;33m\u001b[0m\u001b[1;33m\u001b[0m\u001b[0m\n\u001b[0;32m    463\u001b[0m         \u001b[1;32melse\u001b[0m\u001b[1;33m:\u001b[0m\u001b[1;33m\u001b[0m\u001b[1;33m\u001b[0m\u001b[0m\n",
      "\u001b[1;32m~\\.conda\\envs\\basic\\lib\\http\\client.py\u001b[0m in \u001b[0;36mreadinto\u001b[1;34m(self, b)\u001b[0m\n\u001b[0;32m    503\u001b[0m         \u001b[1;31m# connection, and the user is reading more bytes than will be provided\u001b[0m\u001b[1;33m\u001b[0m\u001b[1;33m\u001b[0m\u001b[1;33m\u001b[0m\u001b[0m\n\u001b[0;32m    504\u001b[0m         \u001b[1;31m# (for example, reading in 1k chunks)\u001b[0m\u001b[1;33m\u001b[0m\u001b[1;33m\u001b[0m\u001b[1;33m\u001b[0m\u001b[0m\n\u001b[1;32m--> 505\u001b[1;33m         \u001b[0mn\u001b[0m \u001b[1;33m=\u001b[0m \u001b[0mself\u001b[0m\u001b[1;33m.\u001b[0m\u001b[0mfp\u001b[0m\u001b[1;33m.\u001b[0m\u001b[0mreadinto\u001b[0m\u001b[1;33m(\u001b[0m\u001b[0mb\u001b[0m\u001b[1;33m)\u001b[0m\u001b[1;33m\u001b[0m\u001b[1;33m\u001b[0m\u001b[0m\n\u001b[0m\u001b[0;32m    506\u001b[0m         \u001b[1;32mif\u001b[0m \u001b[1;32mnot\u001b[0m \u001b[0mn\u001b[0m \u001b[1;32mand\u001b[0m \u001b[0mb\u001b[0m\u001b[1;33m:\u001b[0m\u001b[1;33m\u001b[0m\u001b[1;33m\u001b[0m\u001b[0m\n\u001b[0;32m    507\u001b[0m             \u001b[1;31m# Ideally, we would raise IncompleteRead if the content-length\u001b[0m\u001b[1;33m\u001b[0m\u001b[1;33m\u001b[0m\u001b[1;33m\u001b[0m\u001b[0m\n",
      "\u001b[1;32m~\\.conda\\envs\\basic\\lib\\socket.py\u001b[0m in \u001b[0;36mreadinto\u001b[1;34m(self, b)\u001b[0m\n\u001b[0;32m    587\u001b[0m         \u001b[1;32mwhile\u001b[0m \u001b[1;32mTrue\u001b[0m\u001b[1;33m:\u001b[0m\u001b[1;33m\u001b[0m\u001b[1;33m\u001b[0m\u001b[0m\n\u001b[0;32m    588\u001b[0m             \u001b[1;32mtry\u001b[0m\u001b[1;33m:\u001b[0m\u001b[1;33m\u001b[0m\u001b[1;33m\u001b[0m\u001b[0m\n\u001b[1;32m--> 589\u001b[1;33m                 \u001b[1;32mreturn\u001b[0m \u001b[0mself\u001b[0m\u001b[1;33m.\u001b[0m\u001b[0m_sock\u001b[0m\u001b[1;33m.\u001b[0m\u001b[0mrecv_into\u001b[0m\u001b[1;33m(\u001b[0m\u001b[0mb\u001b[0m\u001b[1;33m)\u001b[0m\u001b[1;33m\u001b[0m\u001b[1;33m\u001b[0m\u001b[0m\n\u001b[0m\u001b[0;32m    590\u001b[0m             \u001b[1;32mexcept\u001b[0m \u001b[0mtimeout\u001b[0m\u001b[1;33m:\u001b[0m\u001b[1;33m\u001b[0m\u001b[1;33m\u001b[0m\u001b[0m\n\u001b[0;32m    591\u001b[0m                 \u001b[0mself\u001b[0m\u001b[1;33m.\u001b[0m\u001b[0m_timeout_occurred\u001b[0m \u001b[1;33m=\u001b[0m \u001b[1;32mTrue\u001b[0m\u001b[1;33m\u001b[0m\u001b[1;33m\u001b[0m\u001b[0m\n",
      "\u001b[1;31mKeyboardInterrupt\u001b[0m: "
     ]
    }
   ],
   "source": [
    "#1기가바이트가 넘는 우분투 리눅스 설치 파일 다운로드, \n",
    "import requests\n",
    "r = requests.get('http://releases.ubuntu.com/18.04.1/ubuntu-18.04.1-desktop-amd64.iso', stream=True)\n",
    "with open('ubuntu-18.04.1-desktop-amd64.iso', 'wb') as f:\n",
    "    for chunk in r.iter_content(100000): # 100k 바이트 단위로 처리\n",
    "        f.write(chunk)\n",
    "        print('.', end='', flush=True) # 100k 바이트를 내려받을 때마다 ,진행상황을 화면에 표시\n",
    "    print()"
   ]
  },
  {
   "cell_type": "code",
   "execution_count": 9,
   "id": "horizontal-renaissance",
   "metadata": {},
   "outputs": [
    {
     "name": "stdout",
     "output_type": "stream",
     "text": [
      "w_108_2020_1.html saved\n",
      "w_108_2020_2.html saved\n",
      "w_108_2020_3.html saved\n",
      "w_108_2020_4.html saved\n",
      "w_108_2020_5.html saved\n",
      "w_108_2020_6.html saved\n",
      "w_108_2020_7.html saved\n",
      "w_108_2020_8.html saved\n",
      "w_108_2020_9.html saved\n",
      "w_108_2020_10.html saved\n",
      "w_108_2020_11.html saved\n",
      "w_108_2020_12.html saved\n"
     ]
    }
   ],
   "source": [
    "import requests\n",
    "\n",
    "#url 지정, 응답받음\n",
    "def get_page(stn, yy, mm):\n",
    "    url = f'http://www.weather.go.kr/weather/climate/past_cal.jsp?stn={stn}&yy={yy}&mm={mm}'\n",
    "    res = requests.get(url)\n",
    "    return res.text\n",
    "\n",
    "stn = 108\n",
    "yy = 2020\n",
    "for mm in range(1,13):\n",
    "    html = get_page(stn, yy, mm) #단계2-3\n",
    "    fpath = f'w_{stn}_{yy}_{mm}.html' #단계4\n",
    "    open(fpath, 'w', encoding = 'euc-kr').write(html) #단계5\n",
    "    print(fpath, 'saved')"
   ]
  },
  {
   "cell_type": "code",
   "execution_count": 18,
   "id": "royal-walnut",
   "metadata": {
    "collapsed": true,
    "jupyter": {
     "outputs_hidden": true
    },
    "tags": []
   },
   "outputs": [
    {
     "ename": "AttributeError",
     "evalue": "'WebDriver' object has no attribute 'page_resource'",
     "output_type": "error",
     "traceback": [
      "\u001b[1;31m---------------------------------------------------------------------------\u001b[0m",
      "\u001b[1;31mAttributeError\u001b[0m                            Traceback (most recent call last)",
      "\u001b[1;32m<ipython-input-18-a436ad4b282a>\u001b[0m in \u001b[0;36m<module>\u001b[1;34m\u001b[0m\n\u001b[0;32m     14\u001b[0m \u001b[0mtime\u001b[0m\u001b[1;33m.\u001b[0m\u001b[0msleep\u001b[0m\u001b[1;33m(\u001b[0m\u001b[1;36m3\u001b[0m\u001b[1;33m)\u001b[0m  \u001b[1;31m# 3초간 대기\u001b[0m\u001b[1;33m\u001b[0m\u001b[1;33m\u001b[0m\u001b[0m\n\u001b[0;32m     15\u001b[0m \u001b[1;33m\u001b[0m\u001b[0m\n\u001b[1;32m---> 16\u001b[1;33m \u001b[0mhtml\u001b[0m \u001b[1;33m=\u001b[0m \u001b[0mres\u001b[0m\u001b[1;33m.\u001b[0m\u001b[0mpage_resource\u001b[0m\u001b[1;33m\u001b[0m\u001b[1;33m\u001b[0m\u001b[0m\n\u001b[0m\u001b[0;32m     17\u001b[0m \u001b[0msoup\u001b[0m \u001b[1;33m=\u001b[0m \u001b[0mBeautifulSoup\u001b[0m\u001b[1;33m(\u001b[0m\u001b[0mhtml\u001b[0m\u001b[1;33m,\u001b[0m \u001b[1;34m'html.parser'\u001b[0m\u001b[1;33m)\u001b[0m\u001b[1;33m\u001b[0m\u001b[1;33m\u001b[0m\u001b[0m\n\u001b[0;32m     18\u001b[0m \u001b[1;33m\u001b[0m\u001b[0m\n",
      "\u001b[1;31mAttributeError\u001b[0m: 'WebDriver' object has no attribute 'page_resource'"
     ]
    }
   ],
   "source": [
    "#나혼자!!!!!!!!!!!!!!!!!!!!!!!!!!!!!!!!!!!!!!!!!!!!!!!!!!!!!!!!1\n",
    "import csv\n",
    "import time\n",
    "import requests as res\n",
    "from bs4 import BeautifulSoup\n",
    "from selenium import webdriver\n",
    "\n",
    "filename = \"weather.csv\"\n",
    "csv_file = open(filename, \"w+\", encoding=\"utf-8-sig\")\n",
    "writer = csv.writer(csv_file)\n",
    "\n",
    "url = \"http://www.weather.go.kr/weather/climate/past_cal.jsp?stn={stn}&yy={yy}&mm={mm}\"\n",
    "res = webdriver.Chrome(\"./chromedriver\")\n",
    "res.get(url)\n",
    "time.sleep(3)  # 3초간 대기\n",
    "\n",
    "html = res.page_resource\n",
    "soup = BeautifulSoup(html, 'html.parser')\n",
    "\n",
    "months = soup.findAll('select', {\"class\":\"wid40\"})\n",
    "\n",
    "months\n",
    "# for month in months:\n",
    "# \ttemp = item.find('img')\n",
    "#     item_img_url = temp['src']\n",
    "#     item_name = temp['alt']\n",
    "    \n",
    "#     product = (item_name, item_img_url)\n",
    "#     writer.writerow(product)\n",
    "\n",
    "# csv_file.close()\n"
   ]
  },
  {
   "cell_type": "code",
   "execution_count": 16,
   "id": "general-evening",
   "metadata": {
    "collapsed": true,
    "jupyter": {
     "outputs_hidden": true
    },
    "tags": []
   },
   "outputs": [
    {
     "name": "stdout",
     "output_type": "stream",
     "text": [
      "Collecting feedparser\n",
      "  Downloading feedparser-6.0.2-py3-none-any.whl (80 kB)\n",
      "Collecting sgmllib3k\n",
      "  Downloading sgmllib3k-1.0.0.tar.gz (5.8 kB)\n",
      "Building wheels for collected packages: sgmllib3k\n",
      "  Building wheel for sgmllib3k (setup.py): started\n",
      "  Building wheel for sgmllib3k (setup.py): finished with status 'done'\n",
      "  Created wheel for sgmllib3k: filename=sgmllib3k-1.0.0-py3-none-any.whl size=6065 sha256=b8d10596b6d9dbb14bb960407cdcb371fd74669287f6019a42330cc083b0b130\n",
      "  Stored in directory: c:\\users\\asia-12\\appdata\\local\\pip\\cache\\wheels\\73\\ad\\a4\\0dff4a6ef231fc0dfa12ffbac2a36cebfdddfe059f50e019aa\n",
      "Successfully built sgmllib3k\n",
      "Installing collected packages: sgmllib3k, feedparser\n",
      "Successfully installed feedparser-6.0.2 sgmllib3k-1.0.0\n"
     ]
    }
   ],
   "source": [
    "!pip install feedparser"
   ]
  },
  {
   "cell_type": "code",
   "execution_count": 19,
   "id": "amended-verse",
   "metadata": {},
   "outputs": [
    {
     "data": {
      "text/plain": [
       "'http://file.mk.co.kr/news/rss/rss_30100041.xml'"
      ]
     },
     "execution_count": 19,
     "metadata": {},
     "output_type": "execute_result"
    }
   ],
   "source": [
    "import feedparser\n",
    "d = feedparser.parse('http://file.mk.co.kr/news/rss/rss_30100041.xml') # 경제 RSS\n",
    "d.keys()\n",
    "d['href']"
   ]
  },
  {
   "cell_type": "markdown",
   "id": "outer-location",
   "metadata": {
    "tags": []
   },
   "source": [
    "import feedparser\n",
    "d = feedparser.parse(\"http://file.mk.co.kr/news/rss/rss_30100041.xml\") #경제 RSS\n",
    "print(type(d))\n",
    "print(d.keys())\n",
    "print(d['href']) #RSS피드 주소값\n",
    "print(d.href)\n",
    "print(d.feed.title) #RSS피드(자체) 정보\n",
    "print(d.entries)  #제공되는 기사가 저장되어 있는 속성\n",
    "article = d.entries[0]  #제공되는 첫번째 기사\n",
    "print(article['title']) #첫번째 기사의 제목\n",
    "print(article['link']) #첫번째기사를 제공하는 웹페이지 url\n",
    "print(article['summary']) #첫번째 기사의 요약된 내용\n",
    "print(article['published'])\n",
    "\n",
    "#메일경제에서 제공하는 경제 카테고리에서 제공되거나 기사중에서\n",
    "제목에 '코인'이 포함되어 있거나 기사내용 요약에 '코인'이 포함된 내용만\n",
    "제목 전체와 기사를 제공하는 웹 페이지 url출력하세요\n"
   ]
  },
  {
   "cell_type": "code",
   "execution_count": 27,
   "id": "extended-windows",
   "metadata": {},
   "outputs": [
    {
     "name": "stdout",
     "output_type": "stream",
     "text": [
      "* 일주일만에 1300만원↓…비트코인 7000만원대 붕괴 https://www.mk.co.kr/news/economy/view/2021/04/377774/\n",
      "* '코인광풍' 더 못봐…정부, 대규모 자금 인출 추적한다 https://www.mk.co.kr/news/economy/view/2021/04/376730/\n",
      "* \"10분만에 천만원 날려\"…코인판, 도박판이 따로없네 https://www.mk.co.kr/news/economy/view/2021/04/376709/\n",
      "* \"美재무부 돈세탁 조사\"…트윗 한 줄에 15% 출렁 https://www.mk.co.kr/news/economy/view/2021/04/376707/\n",
      "* \"20년 기다리느니 주식 코인할래\" 보험 깨는 서민들 https://www.mk.co.kr/news/economy/view/2021/04/376661/\n",
      "* 국내 알트코인 시가총액, 올해 들어서만 5배로 https://www.mk.co.kr/news/economy/view/2021/04/375542/\n",
      "* 비트코인 1000만원 폭락…\"美 재무부 돈세탁 조사설\" https://www.mk.co.kr/news/economy/view/2021/04/372845/\n",
      "* 가상화폐 하루 24조 거래…가이드라인 나온다 https://www.mk.co.kr/news/economy/view/2021/04/372183/\n"
     ]
    }
   ],
   "source": [
    "import feedparser\n",
    "d = feedparser.parse(\"http://file.mk.co.kr/news/rss/rss_30100041.xml\") #경제 RSS\n",
    "\n",
    "for entry in d.entries:\n",
    "    if '코인' in entry['title'] or '코인' in entry['summary']:\n",
    "        print('*', entry['title'], entry['link'])"
   ]
  },
  {
   "cell_type": "code",
   "execution_count": 31,
   "id": "embedded-ukraine",
   "metadata": {},
   "outputs": [
    {
     "name": "stdout",
     "output_type": "stream",
     "text": [
      "* 신한은행, AI 총괄에 삼성SDS 출신 김민수 센터장 https://www.mk.co.kr/news/economy/view/2021/04/376071/\n"
     ]
    }
   ],
   "source": [
    "import feedparser\n",
    "d = feedparser.parse(\"http://file.mk.co.kr/news/rss/rss_30100041.xml\") #경제 RSS\n",
    "\n",
    "for entry in d.entries:\n",
    "    if '삼성' in entry['title'] or '갤럭시' in entry['summary']:\n",
    "        print('*', entry['title'], entry['link'])"
   ]
  },
  {
   "cell_type": "code",
   "execution_count": 84,
   "id": "similar-backup",
   "metadata": {
    "tags": []
   },
   "outputs": [
    {
     "data": {
      "text/plain": [
       "<a class=\"python\" href=\"http://www.yes24.com/Product/Goods/98135876?OzSrank=3\" id=\"link3\" name=\"coin\"> 파이썬을 이용한 비트코인 자동매매</a>"
      ]
     },
     "execution_count": 84,
     "metadata": {},
     "output_type": "execute_result"
    }
   ],
   "source": [
    "from bs4 import BeautifulSoup\n",
    "\n",
    "html =\"\"\"\n",
    "<html>\n",
    "<head>\n",
    "<title> python </title>\n",
    "<meta charset=\"utf-8\">\n",
    "</head>\n",
    "<body>\n",
    "<H1 class=\"title\">python 활용 범위</H1>\n",
    "<p class=\"story\">파이썬(Python)은 1991년 프로그래머인 귀도 반 로섬이 발표한\n",
    "고급 프로그래밍 언어로, 플랫폼에 독립적이며 인터프리터식, 객체지향적, 동적타이핑 \n",
    "대화형 언어이다.</p>\n",
    "<div class=\"book python\">\n",
    "<a href= \"http://www.yes24.com/Product/Goods/74419916?OzSrank=1\"\n",
    "    class=\"python\" name =\"why\" id=\"link1\"> Do it! 점프 투 파이썬</a>\n",
    "<b href= \"http://www.yes24.com/Product/Goods/74269975?OzSrank=2\"\n",
    "    class=\"python\" name =\"alone\" id=\"link2\"> 혼자 공부하는 파이썬</b>\n",
    "<a href= \"http://www.yes24.com/Product/Goods/98135876?OzSrank=3\"\n",
    "    class=\"python\" name =\"coin\" id=\"link3\"> 파이썬을 이용한 비트코인 자동매매</a>    \n",
    "<a href= \"http://www.yes24.com/Product/Goods/98135876?OzSrank=3\"\n",
    "    class=\"python\" name =\"machine\" id=\"link4\"> 혼자 공부하는 머신러닝+딥러닝</a>\n",
    "</div>\n",
    "</body>\n",
    "</html>\n",
    "\"\"\"\n",
    "\n",
    "soup = BeautifulSoup(html, 'lxml')\n",
    "#print(soup)\n",
    "#print(type(soup))\n",
    "#print(soup.prettify())\n",
    "#print(soup.html.head.title, soup.title)\n",
    "#print(soup.a) #<a>의 첫 항목 반환\n",
    "#print(soup.find_all('a'))  #<a>모두 반환\n",
    "\n",
    "tag = soup.a  #문서 내에서 첫번째 <a>반환\n",
    "#print(tag.name,'\\n')  #name속성\n",
    "#print(tag.text,'\\n')  #태그 내용\n",
    "#print(tag.attrs['href'],'\\n')  #태그의 특정 속성\n",
    "#print(tag.attrs,'\\n')  #태그의 모든 속성 dict로 반환\n",
    "\n",
    "#soup.a.find_next()  #어떤 노드의 다음 노드 반환\n",
    "soup.a.find_next().find_next()\n"
   ]
  },
  {
   "cell_type": "code",
   "execution_count": 85,
   "id": "alpine-owner",
   "metadata": {},
   "outputs": [
    {
     "name": "stdout",
     "output_type": "stream",
     "text": [
      "[<a class=\"python\" href=\"http://www.yes24.com/Product/Goods/74419916?OzSrank=1\" id=\"link1\" name=\"why\"> Do it! 점프 투 파이썬</a>, <a class=\"python\" href=\"http://www.yes24.com/Product/Goods/98135876?OzSrank=3\" id=\"link3\" name=\"coin\"> 파이썬을 이용한 비트코인 자동매매</a>, <a class=\"python\" href=\"http://www.yes24.com/Product/Goods/98135876?OzSrank=3\" id=\"link4\" name=\"machine\"> 혼자 공부하는 머신러닝+딥러닝</a>]\n"
     ]
    }
   ],
   "source": [
    "print(soup.select('a[href^=http:]')) "
   ]
  },
  {
   "cell_type": "code",
   "execution_count": 59,
   "id": "finite-manhattan",
   "metadata": {},
   "outputs": [
    {
     "data": {
      "text/plain": [
       "<p class=\"story\">파이썬(Python)은 1991년 프로그래머인 귀도 반 로섬이 발표한\n",
       "고급 프로그래밍 언어로, 플랫폼에 독립적이며 인터프리터식, 객체지향적, 동적타이핑 \n",
       "대화형 언어이다.</p>"
      ]
     },
     "execution_count": 59,
     "metadata": {},
     "output_type": "execute_result"
    }
   ],
   "source": [
    "import re\n",
    "soup.find('p', string=re.compile('^파이썬')) #p속성이며, '파이썬'포함 된 것 모두 반환"
   ]
  },
  {
   "cell_type": "code",
   "execution_count": 61,
   "id": "invisible-reproduction",
   "metadata": {},
   "outputs": [
    {
     "data": {
      "text/plain": [
       "['파이썬(Python)은 1991년 프로그래머인 귀도 반 로섬이 발표한\\n고급 프로그래밍 언어로, 플랫폼에 독립적이며 인터프리터식, 객체지향적, 동적타이핑 \\n대화형 언어이다.',\n",
       " ' Do it! 점프 투 파이썬',\n",
       " ' 혼자 공부하는 파이썬',\n",
       " ' 파이썬을 이용한 비트코인 자동매매']"
      ]
     },
     "execution_count": 61,
     "metadata": {},
     "output_type": "execute_result"
    }
   ],
   "source": [
    "soup.find_all(string=re.compile('파이썬')) #'파이썬'포함 된 것 모두 반환"
   ]
  },
  {
   "cell_type": "code",
   "execution_count": null,
   "id": "vertical-radical",
   "metadata": {},
   "outputs": [],
   "source": [
    "soup.find_all('a')  #특정 속성 가지고 있는 것 모두 반환"
   ]
  },
  {
   "cell_type": "code",
   "execution_count": 67,
   "id": "entertaining-distribution",
   "metadata": {},
   "outputs": [
    {
     "data": {
      "text/plain": [
       "[<a class=\"python\" href=\"http://www.yes24.com/Product/Goods/98135876?OzSrank=3\" id=\"link3\" name=\"coin\"> 파이썬을 이용한 비트코인 자동매매</a>]"
      ]
     },
     "execution_count": 67,
     "metadata": {},
     "output_type": "execute_result"
    }
   ],
   "source": [
    "soup.find_all('a',attrs={'class':'python', 'name':'coin'})"
   ]
  },
  {
   "cell_type": "code",
   "execution_count": 68,
   "id": "settled-spine",
   "metadata": {
    "collapsed": true,
    "jupyter": {
     "outputs_hidden": true
    },
    "tags": []
   },
   "outputs": [
    {
     "data": {
      "text/plain": [
       "[<h1 class=\"title\">python 활용 범위</h1>,\n",
       " <a class=\"python\" href=\"http://www.yes24.com/Product/Goods/74419916?OzSrank=1\" id=\"link1\" name=\"why\"> Do it! 점프 투 파이썬</a>,\n",
       " <a class=\"python\" href=\"http://www.yes24.com/Product/Goods/98135876?OzSrank=3\" id=\"link3\" name=\"coin\"> 파이썬을 이용한 비트코인 자동매매</a>,\n",
       " <a class=\"python\" href=\"http://www.yes24.com/Product/Goods/98135876?OzSrank=3\" id=\"link4\" name=\"machine\"> 혼자 공부하는 머신러닝+딥러닝</a>]"
      ]
     },
     "execution_count": 68,
     "metadata": {},
     "output_type": "execute_result"
    }
   ],
   "source": [
    "soup.find_all(['a','h1'])  #h1클래스의 a속성 가져옴"
   ]
  },
  {
   "cell_type": "code",
   "execution_count": 69,
   "id": "residential-marshall",
   "metadata": {
    "collapsed": true,
    "jupyter": {
     "outputs_hidden": true
    },
    "tags": []
   },
   "outputs": [
    {
     "data": {
      "text/plain": [
       "[<html>\n",
       " <head>\n",
       " <title> python </title>\n",
       " <meta charset=\"utf-8\"/>\n",
       " </head>\n",
       " <body>\n",
       " <h1 class=\"title\">python 활용 범위</h1>\n",
       " <p class=\"story\">파이썬(Python)은 1991년 프로그래머인 귀도 반 로섬이 발표한\n",
       " 고급 프로그래밍 언어로, 플랫폼에 독립적이며 인터프리터식, 객체지향적, 동적타이핑 \n",
       " 대화형 언어이다.</p>\n",
       " <div class=\"book python\">\n",
       " <a class=\"python\" href=\"http://www.yes24.com/Product/Goods/74419916?OzSrank=1\" id=\"link1\" name=\"why\"> Do it! 점프 투 파이썬</a>\n",
       " <b class=\"python\" href=\"http://www.yes24.com/Product/Goods/74269975?OzSrank=2\" id=\"link2\" name=\"alone\"> 혼자 공부하는 파이썬</b>\n",
       " <a class=\"python\" href=\"http://www.yes24.com/Product/Goods/98135876?OzSrank=3\" id=\"link3\" name=\"coin\"> 파이썬을 이용한 비트코인 자동매매</a>\n",
       " <a class=\"python\" href=\"http://www.yes24.com/Product/Goods/98135876?OzSrank=3\" id=\"link4\" name=\"machine\"> 혼자 공부하는 머신러닝+딥러닝</a>\n",
       " </div>\n",
       " </body>\n",
       " </html>,\n",
       " <head>\n",
       " <title> python </title>\n",
       " <meta charset=\"utf-8\"/>\n",
       " </head>,\n",
       " <title> python </title>,\n",
       " <meta charset=\"utf-8\"/>,\n",
       " <body>\n",
       " <h1 class=\"title\">python 활용 범위</h1>\n",
       " <p class=\"story\">파이썬(Python)은 1991년 프로그래머인 귀도 반 로섬이 발표한\n",
       " 고급 프로그래밍 언어로, 플랫폼에 독립적이며 인터프리터식, 객체지향적, 동적타이핑 \n",
       " 대화형 언어이다.</p>\n",
       " <div class=\"book python\">\n",
       " <a class=\"python\" href=\"http://www.yes24.com/Product/Goods/74419916?OzSrank=1\" id=\"link1\" name=\"why\"> Do it! 점프 투 파이썬</a>\n",
       " <b class=\"python\" href=\"http://www.yes24.com/Product/Goods/74269975?OzSrank=2\" id=\"link2\" name=\"alone\"> 혼자 공부하는 파이썬</b>\n",
       " <a class=\"python\" href=\"http://www.yes24.com/Product/Goods/98135876?OzSrank=3\" id=\"link3\" name=\"coin\"> 파이썬을 이용한 비트코인 자동매매</a>\n",
       " <a class=\"python\" href=\"http://www.yes24.com/Product/Goods/98135876?OzSrank=3\" id=\"link4\" name=\"machine\"> 혼자 공부하는 머신러닝+딥러닝</a>\n",
       " </div>\n",
       " </body>,\n",
       " <h1 class=\"title\">python 활용 범위</h1>,\n",
       " <p class=\"story\">파이썬(Python)은 1991년 프로그래머인 귀도 반 로섬이 발표한\n",
       " 고급 프로그래밍 언어로, 플랫폼에 독립적이며 인터프리터식, 객체지향적, 동적타이핑 \n",
       " 대화형 언어이다.</p>,\n",
       " <div class=\"book python\">\n",
       " <a class=\"python\" href=\"http://www.yes24.com/Product/Goods/74419916?OzSrank=1\" id=\"link1\" name=\"why\"> Do it! 점프 투 파이썬</a>\n",
       " <b class=\"python\" href=\"http://www.yes24.com/Product/Goods/74269975?OzSrank=2\" id=\"link2\" name=\"alone\"> 혼자 공부하는 파이썬</b>\n",
       " <a class=\"python\" href=\"http://www.yes24.com/Product/Goods/98135876?OzSrank=3\" id=\"link3\" name=\"coin\"> 파이썬을 이용한 비트코인 자동매매</a>\n",
       " <a class=\"python\" href=\"http://www.yes24.com/Product/Goods/98135876?OzSrank=3\" id=\"link4\" name=\"machine\"> 혼자 공부하는 머신러닝+딥러닝</a>\n",
       " </div>,\n",
       " <a class=\"python\" href=\"http://www.yes24.com/Product/Goods/74419916?OzSrank=1\" id=\"link1\" name=\"why\"> Do it! 점프 투 파이썬</a>,\n",
       " <b class=\"python\" href=\"http://www.yes24.com/Product/Goods/74269975?OzSrank=2\" id=\"link2\" name=\"alone\"> 혼자 공부하는 파이썬</b>,\n",
       " <a class=\"python\" href=\"http://www.yes24.com/Product/Goods/98135876?OzSrank=3\" id=\"link3\" name=\"coin\"> 파이썬을 이용한 비트코인 자동매매</a>,\n",
       " <a class=\"python\" href=\"http://www.yes24.com/Product/Goods/98135876?OzSrank=3\" id=\"link4\" name=\"machine\"> 혼자 공부하는 머신러닝+딥러닝</a>]"
      ]
     },
     "execution_count": 69,
     "metadata": {},
     "output_type": "execute_result"
    }
   ],
   "source": [
    "soup.find_all()"
   ]
  },
  {
   "cell_type": "markdown",
   "id": "requested-steering",
   "metadata": {},
   "source": [
    "#select() -CSS의 selector문법으로 html문서 내용을 검색해서 결과 반환\n",
    "'태그명', '태그명', ..\n",
    "'#id값'\n",
    "'부모태그명 자손태그'\n",
    "'부모태그명 > 자손태그'\n",
    "'태그명[속성명=값]'\n",
    "'태그 + next태그'\n",
    "'태그 ~ next태그'\n",
    ":nth-of-type(3n+1)"
   ]
  },
  {
   "cell_type": "code",
   "execution_count": 80,
   "id": "combined-travel",
   "metadata": {},
   "outputs": [
    {
     "name": "stdout",
     "output_type": "stream",
     "text": [
      "1 [] \n",
      "\n",
      "2 [<a class=\"python\" href=\"http://www.yes24.com/Product/Goods/74419916?OzSrank=1\" id=\"link1\" name=\"why\"> Do it! 점프 투 파이썬</a>, <a class=\"python\" href=\"http://www.yes24.com/Product/Goods/98135876?OzSrank=3\" id=\"link3\" name=\"coin\"> 파이썬을 이용한 비트코인 자동매매</a>, <a class=\"python\" href=\"http://www.yes24.com/Product/Goods/98135876?OzSrank=3\" id=\"link4\" name=\"machine\"> 혼자 공부하는 머신러닝+딥러닝</a>] \n",
      "\n",
      "3 [<p class=\"story\">파이썬(Python)은 1991년 프로그래머인 귀도 반 로섬이 발표한\n",
      "고급 프로그래밍 언어로, 플랫폼에 독립적이며 인터프리터식, 객체지향적, 동적타이핑 \n",
      "대화형 언어이다.</p>, <a class=\"python\" href=\"http://www.yes24.com/Product/Goods/74419916?OzSrank=1\" id=\"link1\" name=\"why\"> Do it! 점프 투 파이썬</a>, <a class=\"python\" href=\"http://www.yes24.com/Product/Goods/98135876?OzSrank=3\" id=\"link3\" name=\"coin\"> 파이썬을 이용한 비트코인 자동매매</a>, <a class=\"python\" href=\"http://www.yes24.com/Product/Goods/98135876?OzSrank=3\" id=\"link4\" name=\"machine\"> 혼자 공부하는 머신러닝+딥러닝</a>] \n",
      "\n",
      "4 [<a class=\"python\" href=\"http://www.yes24.com/Product/Goods/74419916?OzSrank=1\" id=\"link1\" name=\"why\"> Do it! 점프 투 파이썬</a>, <a class=\"python\" href=\"http://www.yes24.com/Product/Goods/98135876?OzSrank=3\" id=\"link3\" name=\"coin\"> 파이썬을 이용한 비트코인 자동매매</a>, <a class=\"python\" href=\"http://www.yes24.com/Product/Goods/98135876?OzSrank=3\" id=\"link4\" name=\"machine\"> 혼자 공부하는 머신러닝+딥러닝</a>] \n",
      "\n",
      "5 [] \n",
      "\n",
      "6 [<a class=\"python\" href=\"http://www.yes24.com/Product/Goods/74419916?OzSrank=1\" id=\"link1\" name=\"why\"> Do it! 점프 투 파이썬</a>, <a class=\"python\" href=\"http://www.yes24.com/Product/Goods/98135876?OzSrank=3\" id=\"link3\" name=\"coin\"> 파이썬을 이용한 비트코인 자동매매</a>, <a class=\"python\" href=\"http://www.yes24.com/Product/Goods/98135876?OzSrank=3\" id=\"link4\" name=\"machine\"> 혼자 공부하는 머신러닝+딥러닝</a>] \n",
      "\n",
      "7 [<a class=\"python\" href=\"http://www.yes24.com/Product/Goods/74419916?OzSrank=1\" id=\"link1\" name=\"why\"> Do it! 점프 투 파이썬</a>] \n",
      "\n",
      "8 [<a class=\"python\" href=\"http://www.yes24.com/Product/Goods/98135876?OzSrank=3\" id=\"link4\" name=\"machine\"> 혼자 공부하는 머신러닝+딥러닝</a>] \n",
      "\n",
      " Do it! 점프 투 파이썬 http://www.yes24.com/Product/Goods/74419916?OzSrank=1\n",
      " 파이썬을 이용한 비트코인 자동매매 http://www.yes24.com/Product/Goods/98135876?OzSrank=3\n",
      " 혼자 공부하는 머신러닝+딥러닝 http://www.yes24.com/Product/Goods/98135876?OzSrank=3\n"
     ]
    }
   ],
   "source": [
    "print(1, soup.select('link1'),'\\n')\n",
    "print(2, soup.select('a.python'),'\\n')\n",
    "print(3, soup.select('p,a'),'\\n')\n",
    "print(4, soup.select('div > a'),'\\n')\n",
    "print(5, soup.select('body > a'),'\\n')\n",
    "print(6, soup.select('a[href^=http:]'),'\\n')  #http로 시작하는 a 요소\n",
    "print(7, soup.select('a:nth-of-type(1)'),'\\n')\n",
    "print(8, soup.select('a:nth-of-type(3)'),'\\n')\n",
    "\n",
    "for ele in soup.select('a[href^=http:]'):\n",
    "    print(ele.get_text(), ele.get('href'))\n",
    "    \n",
    "    "
   ]
  },
  {
   "cell_type": "code",
   "execution_count": 86,
   "id": "suspended-ensemble",
   "metadata": {},
   "outputs": [
    {
     "ename": "NameError",
     "evalue": "name 'request' is not defined",
     "output_type": "error",
     "traceback": [
      "\u001b[1;31m---------------------------------------------------------------------------\u001b[0m",
      "\u001b[1;31mNameError\u001b[0m                                 Traceback (most recent call last)",
      "\u001b[1;32m<ipython-input-86-b619aeb873d2>\u001b[0m in \u001b[0;36m<module>\u001b[1;34m\u001b[0m\n\u001b[0;32m      1\u001b[0m \u001b[0murl\u001b[0m \u001b[1;33m=\u001b[0m \u001b[1;34m\"http://search.naver.com/search.naver?sm=top_hty&fbm=1&ie=utf7&query=\"\u001b[0m\u001b[1;33m\u001b[0m\u001b[1;33m\u001b[0m\u001b[0m\n\u001b[1;32m----> 2\u001b[1;33m \u001b[0mdata\u001b[0m \u001b[1;33m=\u001b[0m \u001b[0mrequest\u001b[0m\u001b[1;33m.\u001b[0m\u001b[0mget\u001b[0m\u001b[1;33m(\u001b[0m\u001b[0murl\u001b[0m\u001b[1;33m)\u001b[0m\u001b[1;33m\u001b[0m\u001b[1;33m\u001b[0m\u001b[0m\n\u001b[0m",
      "\u001b[1;31mNameError\u001b[0m: name 'request' is not defined"
     ]
    }
   ],
   "source": [
    "url = \"http://search.naver.com/search.naver?sm=top_hty&fbm=1&ie=utf7&query=\"\n",
    "data = request.get(url)"
   ]
  },
  {
   "cell_type": "code",
   "execution_count": 94,
   "id": "champion-mouth",
   "metadata": {},
   "outputs": [
    {
     "name": "stdout",
     "output_type": "stream",
     "text": [
      "1 훠궈 칼로리 그리고 소스 만들기 - https://blog.naver.com/goodluck32/222312006460\n",
      "\n",
      "2 훠궈 물꼬치 만드는법, 간단 마라탕 레시피 - https://blog.naver.com/chez_sophie/222261176951\n",
      "\n",
      "3 집에서 훠궈 만들기 해서 먹었어요 - https://blog.naver.com/1000ses2/221731404795\n",
      "\n",
      "4 가족들과 오손도손 함께 하는 저녁메뉴 추천, 중국식 샤브샤브 훠궈 - https://blog.naver.com/caosister39/222258643462\n",
      "\n",
      "5 [찜닭 만들기]닭볶음탕 만들기. 콜라 찜닭 만들기. 훠궈소스 추가 초간단 닭볶음탕 만들기 - https://blog.naver.com/dlwldls0325/222251112494\n",
      "\n",
      "6 찬바람 불면 생각나는 훠궈, 집에서 만들어볼까? - https://post.naver.com/viewer/postView.nhn?volumeNo=29709573&memberNo=1454245&vType=VERTICAL\n",
      "\n",
      "7 하이디라오 훠궈소스 : 마장 찍먹 - https://blog.naver.com/sweet9737/222234263913\n",
      "\n",
      "8 훠궈 만들기/ 현지(사천)에서 배운 소스와 스타일로 - https://blog.naver.com/sandychoo/222072593975\n",
      "\n",
      "9 '마라탕' 만들기 주군기 마라탕소스와 고구마 훠궈둔분 (넙적 중국 당면) 고구마 전분 85% - https://blog.naver.com/kykkklove/222284330045\n",
      "\n"
     ]
    }
   ],
   "source": [
    "import requests\n",
    "from bs4 import BeautifulSoup\n",
    "\n",
    "search = '훠궈'\n",
    "r = requests.get('https://search.naver.com/search.naver?where=nexearch&sm=top_hty&fbm=1&ie=utf8&query='+search)\n",
    "soup = BeautifulSoup(r.text, 'lxml')\n",
    "for i, anchor in enumerate(soup.select('a.api_txt_lines')):\n",
    "                 print(i+1, anchor.text, '-', anchor.attrs['href'])\n",
    "                 print()\n"
   ]
  },
  {
   "cell_type": "code",
   "execution_count": 137,
   "id": "suitable-practitioner",
   "metadata": {},
   "outputs": [],
   "source": [
    "import requests\n",
    "from bs4 import BeautifulSoup\n",
    "\n",
    "r = requests.get('https://ohou.se/')\n",
    "soup = BeautifulSoup(r.text, 'lxml')\n",
    "\n",
    "# images = soup.find_all('img')\n",
    "# images2 = soup.find_all('data-src')\n",
    "images  = soup.find_all(['data-src','img'])\n",
    "for i, image in enumerate(soup.select('img')):\n",
    "     i = image.get_text()\n"
   ]
  },
  {
   "cell_type": "code",
   "execution_count": 169,
   "id": "parliamentary-capacity",
   "metadata": {
    "tags": []
   },
   "outputs": [
    {
     "ename": "KeyError",
     "evalue": "'img'",
     "output_type": "error",
     "traceback": [
      "\u001b[1;31m---------------------------------------------------------------------------\u001b[0m",
      "\u001b[1;31mKeyError\u001b[0m                                  Traceback (most recent call last)",
      "\u001b[1;32m<ipython-input-169-741cae2e040b>\u001b[0m in \u001b[0;36m<module>\u001b[1;34m\u001b[0m\n\u001b[0;32m     11\u001b[0m \u001b[0mi\u001b[0m \u001b[1;33m=\u001b[0m \u001b[1;36m1\u001b[0m                                                  \u001b[1;31m#i변수를 만들어 줌.\u001b[0m\u001b[1;33m\u001b[0m\u001b[1;33m\u001b[0m\u001b[0m\n\u001b[0;32m     12\u001b[0m \u001b[1;32mfor\u001b[0m \u001b[0mimage\u001b[0m \u001b[1;32min\u001b[0m \u001b[0mimages\u001b[0m\u001b[1;33m:\u001b[0m\u001b[1;33m\u001b[0m\u001b[1;33m\u001b[0m\u001b[0m\n\u001b[1;32m---> 13\u001b[1;33m     \u001b[0mimg\u001b[0m \u001b[1;33m=\u001b[0m \u001b[0mimage\u001b[0m\u001b[1;33m[\u001b[0m\u001b[1;34m'img'\u001b[0m\u001b[1;33m]\u001b[0m\u001b[1;33m\u001b[0m\u001b[1;33m\u001b[0m\u001b[0m\n\u001b[0m\u001b[0;32m     14\u001b[0m     \u001b[0mdload\u001b[0m\u001b[1;33m.\u001b[0m\u001b[0msave\u001b[0m\u001b[1;33m(\u001b[0m\u001b[0mimg\u001b[0m\u001b[1;33m,\u001b[0m \u001b[1;34mf'img/{i}.jpg'\u001b[0m\u001b[1;33m)\u001b[0m                    \u001b[1;31m#for 반복문을 써서 i를 불러옴.\u001b[0m\u001b[1;33m\u001b[0m\u001b[1;33m\u001b[0m\u001b[0m\n\u001b[0;32m     15\u001b[0m     \u001b[0mi\u001b[0m \u001b[1;33m+=\u001b[0m \u001b[1;36m1\u001b[0m                                             \u001b[1;31m#i값을 1씩 증가시켜 끝까지 찾음.\u001b[0m\u001b[1;33m\u001b[0m\u001b[1;33m\u001b[0m\u001b[0m\n",
      "\u001b[1;32m~\\.conda\\envs\\basic\\lib\\site-packages\\bs4\\element.py\u001b[0m in \u001b[0;36m__getitem__\u001b[1;34m(self, key)\u001b[0m\n\u001b[0;32m   1009\u001b[0m         \"\"\"tag[key] returns the value of the 'key' attribute for the tag,\n\u001b[0;32m   1010\u001b[0m         and throws an exception if it's not there.\"\"\"\n\u001b[1;32m-> 1011\u001b[1;33m         \u001b[1;32mreturn\u001b[0m \u001b[0mself\u001b[0m\u001b[1;33m.\u001b[0m\u001b[0mattrs\u001b[0m\u001b[1;33m[\u001b[0m\u001b[0mkey\u001b[0m\u001b[1;33m]\u001b[0m\u001b[1;33m\u001b[0m\u001b[1;33m\u001b[0m\u001b[0m\n\u001b[0m\u001b[0;32m   1012\u001b[0m \u001b[1;33m\u001b[0m\u001b[0m\n\u001b[0;32m   1013\u001b[0m     \u001b[1;32mdef\u001b[0m \u001b[0m__iter__\u001b[0m\u001b[1;33m(\u001b[0m\u001b[0mself\u001b[0m\u001b[1;33m)\u001b[0m\u001b[1;33m:\u001b[0m\u001b[1;33m\u001b[0m\u001b[1;33m\u001b[0m\u001b[0m\n",
      "\u001b[1;31mKeyError\u001b[0m: 'img'"
     ]
    }
   ],
   "source": [
    "import requests\n",
    "import dload\n",
    "from bs4 import BeautifulSoup\n",
    "import time\n",
    "\n",
    "r = requests.get('https://ohou.se/')\n",
    "soup = BeautifulSoup(r.text, 'lxml')\n",
    "\n",
    "images = soup.select('img')   #div로만 바꾸어줌.\n",
    "\n",
    "i = 1                                                  #i변수를 만들어 줌.\n",
    "for image in images:\n",
    "    img = image['img']\n",
    "    dload.save(img, f'img/{i}.jpg')                    #for 반복문을 써서 i를 불러옴.\n",
    "    i += 1                                             #i값을 1씩 증가시켜 끝까지 찾음."
   ]
  },
  {
   "cell_type": "code",
   "execution_count": null,
   "id": "korean-survival",
   "metadata": {},
   "outputs": [],
   "source": [
    "!pip install dload"
   ]
  },
  {
   "cell_type": "code",
   "execution_count": 171,
   "id": "practical-mattress",
   "metadata": {
    "tags": []
   },
   "outputs": [
    {
     "ename": "KeyError",
     "evalue": "'data-src'",
     "output_type": "error",
     "traceback": [
      "\u001b[1;31m---------------------------------------------------------------------------\u001b[0m",
      "\u001b[1;31mKeyError\u001b[0m                                  Traceback (most recent call last)",
      "\u001b[1;32m<ipython-input-171-5c9eee0a1a5a>\u001b[0m in \u001b[0;36m<module>\u001b[1;34m\u001b[0m\n\u001b[0;32m     15\u001b[0m \u001b[0mi\u001b[0m \u001b[1;33m=\u001b[0m \u001b[1;36m1\u001b[0m                                                  \u001b[1;31m#i변수를 만들어 줌.\u001b[0m\u001b[1;33m\u001b[0m\u001b[1;33m\u001b[0m\u001b[0m\n\u001b[0;32m     16\u001b[0m \u001b[1;32mfor\u001b[0m \u001b[0mimage\u001b[0m \u001b[1;32min\u001b[0m \u001b[0mimages\u001b[0m\u001b[1;33m:\u001b[0m\u001b[1;33m\u001b[0m\u001b[1;33m\u001b[0m\u001b[0m\n\u001b[1;32m---> 17\u001b[1;33m     \u001b[0mimg\u001b[0m \u001b[1;33m=\u001b[0m \u001b[0mimage\u001b[0m\u001b[1;33m[\u001b[0m\u001b[1;34m'data-src'\u001b[0m\u001b[1;33m]\u001b[0m\u001b[1;33m\u001b[0m\u001b[1;33m\u001b[0m\u001b[0m\n\u001b[0m\u001b[0;32m     18\u001b[0m     \u001b[0mimg\u001b[0m\u001b[1;33m.\u001b[0m\u001b[0msave\u001b[0m\u001b[1;33m(\u001b[0m\u001b[1;34mf'{i}.jpg'\u001b[0m\u001b[1;33m)\u001b[0m                   \u001b[1;31m#for 반복문을 써서 i를 불러옴.\u001b[0m\u001b[1;33m\u001b[0m\u001b[1;33m\u001b[0m\u001b[0m\n\u001b[0;32m     19\u001b[0m     \u001b[0mi\u001b[0m \u001b[1;33m+=\u001b[0m \u001b[1;36m1\u001b[0m                                             \u001b[1;31m#i값을 1씩 증가시켜 끝까지 찾음.\u001b[0m\u001b[1;33m\u001b[0m\u001b[1;33m\u001b[0m\u001b[0m\n",
      "\u001b[1;32m~\\.conda\\envs\\basic\\lib\\site-packages\\bs4\\element.py\u001b[0m in \u001b[0;36m__getitem__\u001b[1;34m(self, key)\u001b[0m\n\u001b[0;32m   1009\u001b[0m         \"\"\"tag[key] returns the value of the 'key' attribute for the tag,\n\u001b[0;32m   1010\u001b[0m         and throws an exception if it's not there.\"\"\"\n\u001b[1;32m-> 1011\u001b[1;33m         \u001b[1;32mreturn\u001b[0m \u001b[0mself\u001b[0m\u001b[1;33m.\u001b[0m\u001b[0mattrs\u001b[0m\u001b[1;33m[\u001b[0m\u001b[0mkey\u001b[0m\u001b[1;33m]\u001b[0m\u001b[1;33m\u001b[0m\u001b[1;33m\u001b[0m\u001b[0m\n\u001b[0m\u001b[0;32m   1012\u001b[0m \u001b[1;33m\u001b[0m\u001b[0m\n\u001b[0;32m   1013\u001b[0m     \u001b[1;32mdef\u001b[0m \u001b[0m__iter__\u001b[0m\u001b[1;33m(\u001b[0m\u001b[0mself\u001b[0m\u001b[1;33m)\u001b[0m\u001b[1;33m:\u001b[0m\u001b[1;33m\u001b[0m\u001b[1;33m\u001b[0m\u001b[0m\n",
      "\u001b[1;31mKeyError\u001b[0m: 'data-src'"
     ]
    }
   ],
   "source": [
    "import dload\n",
    "from bs4 import BeautifulSoup\n",
    "from selenium import webdriver\n",
    "import time\n",
    "\n",
    "driver = webdriver.Chrome('chromedriver') # 웹드라이버 파일의 경로\n",
    "driver.get(\"https://ohou.se/\")\n",
    "time.sleep(5) # 5초 동안 페이지 로딩 기다리기\n",
    "\n",
    "req = driver.page_source\n",
    "\n",
    "soup = BeautifulSoup(req, 'html.parser')\n",
    "\n",
    "images = soup.select('img')   #div로만 바꾸어줌.\n",
    "i = 1                                                  #i변수를 만들어 줌.\n",
    "for image in images:\n",
    "    img = image['data-src']\n",
    "    img.save(f'{i}.jpg')                   #for 반복문을 써서 i를 불러옴.\n",
    "    i += 1                                             #i값을 1씩 증가시켜 끝까지 찾음.\n",
    "\n",
    "driver.quit() # 끝나면 닫아주기"
   ]
  },
  {
   "cell_type": "code",
   "execution_count": 176,
   "id": "executed-dallas",
   "metadata": {},
   "outputs": [
    {
     "name": "stdout",
     "output_type": "stream",
     "text": [
      "Welcome to Python.org\n",
      "<selenium.webdriver.remote.webelement.WebElement (session=\"83df8cc4c50962107a3154b5678202d3\", element=\"a22147a7-e078-4b14-97e2-d40408b5368c\")>\n",
      "id-search-field\n",
      "q\n",
      "search-field\n",
      "input\n",
      "\n",
      "<html class=\"js no-touch geolocation fontface generatedcontent svg formvalidation placeholder boxsiz\n",
      "PSF PyCon Trademark Usage Policy - https://www.python.org/psf/trademarks/pycon\n",
      "Conferences and Workshops - https://www.python.org/community/workshops\n",
      "Event – PyCon Italia 2016 (PyCon Sette) - https://www.python.org/events/python-events/378/\n",
      "2008-04-14 PSF Board Meeting Minutes - https://www.python.org/psf/records/board/minutes/2008-04-14\n",
      "2012-07-16 PSF Board Meeting Minutes - https://www.python.org/psf/records/board/minutes/2012-07-16\n",
      "2013-02-06 PSF Board Meeting Minutes - https://www.python.org/psf/records/board/minutes/2013-02-06\n",
      "PyCon Home at python.org - https://www.python.org/community/pycon\n",
      "Event – PyCon Australia 2013 - https://www.python.org/events/python-events/57/\n",
      "Event – PyCon AU 2019 - https://www.python.org/events/python-events/776/\n",
      "Event – PyCon Australia 2014 - https://www.python.org/events/python-events/10/\n",
      "Event – PyCon Ireland 2012 - https://www.python.org/events/python-events/76/\n",
      "Event – PyCon Ireland 2016 - https://www.python.org/events/python-events/429/\n",
      "Event – PyCon AU 2018 - https://www.python.org/events/python-events/696/\n",
      "Event – PyCon Ireland 2015 - https://www.python.org/events/python-events/333/\n",
      "Event – PyCon AU 2015 - https://www.python.org/events/python-events/273/\n",
      "Event – PyCon PL 2014 - https://www.python.org/events/python-events/191/\n",
      "Event – PyCon MY 2015 - https://www.python.org/events/python-events/313/\n",
      "Event – PyCon Australia 2016 - https://www.python.org/events/python-events/357/\n",
      "Event – PyCon MY 2014 - https://www.python.org/events/python-events/151/\n",
      "Event – PyCon Ireland 2014 - https://www.python.org/events/python-events/149/\n",
      "PSF PyCon Trademark Usage Policy - https://www.python.org/psf/trademarks/pycon\n",
      "Conferences and Workshops - https://www.python.org/community/workshops\n",
      "Event – PyCon Italia 2016 (PyCon Sette) - https://www.python.org/events/python-events/378/\n",
      "2008-04-14 PSF Board Meeting Minutes - https://www.python.org/psf/records/board/minutes/2008-04-14\n",
      "2012-07-16 PSF Board Meeting Minutes - https://www.python.org/psf/records/board/minutes/2012-07-16\n",
      "2013-02-06 PSF Board Meeting Minutes - https://www.python.org/psf/records/board/minutes/2013-02-06\n",
      "PyCon Home at python.org - https://www.python.org/community/pycon\n",
      "Event – PyCon Australia 2013 - https://www.python.org/events/python-events/57/\n",
      "Event – PyCon AU 2019 - https://www.python.org/events/python-events/776/\n",
      "Event – PyCon Australia 2014 - https://www.python.org/events/python-events/10/\n",
      "Event – PyCon Ireland 2012 - https://www.python.org/events/python-events/76/\n",
      "Event – PyCon Ireland 2016 - https://www.python.org/events/python-events/429/\n",
      "Event – PyCon AU 2018 - https://www.python.org/events/python-events/696/\n",
      "Event – PyCon Ireland 2015 - https://www.python.org/events/python-events/333/\n",
      "Event – PyCon AU 2015 - https://www.python.org/events/python-events/273/\n",
      "Event – PyCon PL 2014 - https://www.python.org/events/python-events/191/\n",
      "Event – PyCon MY 2015 - https://www.python.org/events/python-events/313/\n",
      "Event – PyCon Australia 2016 - https://www.python.org/events/python-events/357/\n",
      "Event – PyCon MY 2014 - https://www.python.org/events/python-events/151/\n",
      "Event – PyCon Ireland 2014 - https://www.python.org/events/python-events/149/\n",
      "html\n",
      "body\n",
      "div\n",
      "div\n",
      "div\n",
      "section\n",
      "form\n",
      "ul\n",
      "li\n",
      "h3\n"
     ]
    },
    {
     "data": {
      "text/plain": [
       "116726"
      ]
     },
     "execution_count": 176,
     "metadata": {},
     "output_type": "execute_result"
    }
   ],
   "source": [
    "from selenium import webdriver\n",
    "from selenium.webdriver.common.keys import Keys\n",
    "\n",
    "driver = webdriver.Chrome('chromedriver.exe')\n",
    "\n",
    "driver.get(\"http://www.python.org\")\n",
    "print(driver.title)\n",
    "\n",
    "elem = driver.find_element_by_name(\"q\")\n",
    "print(elem)\n",
    "print(elem.get_attribute('id'))\n",
    "print(elem.get_attribute('name'))\n",
    "print(elem.get_attribute('class'))\n",
    "print(elem.tag_name)\n",
    "print(elem.text)\n",
    "\n",
    "elem.send_keys(\"pycon\" + Keys.RETURN)  #검색어와 검색요청\n",
    "html = driver.page_source\n",
    "print(html[:100])\n",
    "\n",
    "for tag in driver.find_elements_by_css_selector('.list-recent-events li h3'):\n",
    "    print(tag.text, '-', tag.find_element_by_tag_name('a').get_attribute('href'))\n",
    "\n",
    "for tag in driver.find_elements_by_xpath('//form/ul/li/h3'):\n",
    "     print(tag.text, '-', tag.find_element_by_tag_name('a').get_attribute('href'))\n",
    "\n",
    "elem = driver.find_element_by_xpath('//li/h3')  # 어떤 조건으로 검색한 노드를 얻는다\n",
    "for tag in elem.find_elements_by_xpath('ancestor-or-self::*'):  # 조상 노드들을 출력한다\n",
    "    print(tag.tag_name)\n",
    "    \n",
    "png = driver.get_screenshot_as_png()\n",
    "open('screen_capture.png', 'wb').write(png)"
   ]
  },
  {
   "cell_type": "code",
   "execution_count": 159,
   "id": "otherwise-developer",
   "metadata": {},
   "outputs": [],
   "source": [
    "driver = webdriver.Chrome(options=options, executable_path='chromedriver.exe')\n",
    "driver.get(\"http://comic.naver.com/webtoon/detail.nhn?titleld=644122&no=10\")\n",
    "driver.execute_script(\"window.scrollTo(0, document.body.scrollHeight);\")"
   ]
  },
  {
   "cell_type": "code",
   "execution_count": 191,
   "id": "straight-academy",
   "metadata": {
    "tags": []
   },
   "outputs": [],
   "source": [
    "driver = webdriver.Chrome()"
   ]
  },
  {
   "cell_type": "code",
   "execution_count": 192,
   "id": "composite-albania",
   "metadata": {
    "tags": []
   },
   "outputs": [],
   "source": [
    "main_window = driver.window_handles[0]\n",
    "driver.get('http://www.daum.net')\n",
    "\n",
    "for handle in driver.window_handles:\n",
    "    if handle != main_window:\n",
    "        driver.switch_to.window(handle)\n",
    "        driver.close()\n",
    "        "
   ]
  },
  {
   "cell_type": "code",
   "execution_count": 185,
   "id": "gothic-appearance",
   "metadata": {},
   "outputs": [
    {
     "name": "stdout",
     "output_type": "stream",
     "text": [
      "Alert shows following message:Hi!, I am a Simple Alert. Please Click on the 'OK' Button.\n",
      "Clicked on the OK Button in the Alert Window\n"
     ]
    }
   ],
   "source": [
    "from selenium import webdriver\n",
    "import time\n",
    "\n",
    "driver = webdriver.Chrome()\n",
    "driver.maximize_window()\n",
    "location = \"file:///c:/workspace/basic/alert.html\"\n",
    "driver.get(location)\n",
    "\n",
    "button = driver.find_element_by_name('alert')\n",
    "button.click()\n",
    "\n",
    "obj = driver.switch_to.alert #브라우저에 실행된 alert객체 반환\n",
    "msg = obj.text  #alert window의 메세지 내용\n",
    "print(\"Alert shows following message:\" + msg)\n",
    "\n",
    "time.sleep(2)\n",
    "obj.accept()   #alert window의 확인 버튼 실행\n",
    "print(\"Clicked on the OK Button in the Alert Window\")\n",
    "driver.close()"
   ]
  },
  {
   "cell_type": "code",
   "execution_count": 11,
   "id": "appropriate-thursday",
   "metadata": {
    "collapsed": true,
    "jupyter": {
     "outputs_hidden": true
    },
    "tags": []
   },
   "outputs": [
    {
     "name": "stdout",
     "output_type": "stream",
     "text": [
      "[<li class=\"menuDataSet\" new=\"Y\" recomm=\"0\" sell=\"\" sold=\"N\"> <dl> <dt> <a class=\"goDrinkView\" href=\"javascript:void(0)\" prod=\"9200000002487\"><img alt=\"나이트로 바닐라 크림\" src=\"https://image.istarbucks.co.kr/upload/store/skuimg/2019/09/[9200000002487]_20190919181354811.jpg\"/></a> <ul> <li><img alt=\"NEW\" src=\"//image.istarbucks.co.kr/common/img/menu/mark01.png\"/></li> </ul> </dt> <dd>나이트로 바닐라 크림</dd> </dl> </li>, <li class=\"menuDataSet\" new=\"Y\" recomm=\"0\" sell=\"\" sold=\"N\"> <dl> <dt> <a class=\"goDrinkView\" href=\"javascript:void(0)\" prod=\"9200000003509\"><img alt=\"벨벳 다크 모카 나이트로\" src=\"https://image.istarbucks.co.kr/upload/store/skuimg/2021/03/[9200000003509]_20210322093452399.jpg\"/></a> <ul> <li><img alt=\"NEW\" src=\"//image.istarbucks.co.kr/common/img/menu/mark01.png\"/></li> </ul> </dt> <dd>벨벳 다크 모카 나이트로</dd> </dl> </li>, <li class=\"menuDataSet\" new=\"Y\" recomm=\"0\" sell=\"1\" sold=\"N\"> <dl> <dt> <a class=\"goDrinkView\" href=\"javascript:void(0)\" prod=\"9200000003431\"><img alt=\"포레스트 콜드 브루\" src=\"https://image.istarbucks.co.kr/upload/store/skuimg/2021/04/[9200000003431]_20210401092933664.jpg\"/></a> <ul> <li><img alt=\"NEW\" src=\"//image.istarbucks.co.kr/common/img/menu/mark01.png\"/></li> <li><img alt=\"시즌 한정\" src=\"//image.istarbucks.co.kr/common/img/menu/mark02.png\"/></li> </ul> </dt> <dd>포레스트 콜드 브루</dd> </dl> </li>, <li class=\"menuDataSet\" new=\"Y\" recomm=\"0\" sell=\"\" sold=\"N\"> <dl> <dt> <a class=\"goDrinkView\" href=\"javascript:void(0)\" prod=\"9200000003507\"><img alt=\"프렌치 애플 타르트 나이트로\" src=\"https://image.istarbucks.co.kr/upload/store/skuimg/2021/03/[9200000003507]_20210322093414289.jpg\"/></a> <ul> <li><img alt=\"NEW\" src=\"//image.istarbucks.co.kr/common/img/menu/mark01.png\"/></li> </ul> </dt> <dd>프렌치 애플 타르트 나이트로</dd> </dl> </li>, <li class=\"menuDataSet\" new=\"N\" recomm=\"0\" sell=\"\" sold=\"N\"> <dl> <dt> <a class=\"goDrinkView\" href=\"javascript:void(0)\" prod=\"9200000000479\"><img alt=\"나이트로 콜드 브루\" src=\"https://image.istarbucks.co.kr/upload/store/skuimg/2017/03/[9200000000479]_20170328134443491.jpg\"/></a> </dt> <dd>나이트로 콜드 브루</dd> </dl> </li>, <li class=\"menuDataSet\" new=\"N\" recomm=\"0\" sell=\"\" sold=\"N\"> <dl> <dt> <a class=\"goDrinkView\" href=\"javascript:void(0)\" prod=\"9200000002081\"><img alt=\"돌체 콜드 브루\" src=\"https://image.istarbucks.co.kr/upload/store/skuimg/2021/04/[9200000002081]_20210415133656839.jpg\"/></a> </dt> <dd>돌체 콜드 브루</dd> </dl> </li>, <li class=\"menuDataSet\" new=\"N\" recomm=\"0\" sell=\"\" sold=\"N\"> <dl> <dt> <a class=\"goDrinkView\" href=\"javascript:void(0)\" prod=\"9200000000487\"><img alt=\"바닐라 크림 콜드 브루\" src=\"https://image.istarbucks.co.kr/upload/store/skuimg/2021/04/[9200000000487]_20210415135630082.jpg\"/></a> </dt> <dd>바닐라 크림 콜드 브루</dd> </dl> </li>, <li class=\"menuDataSet\" new=\"N\" recomm=\"0\" sell=\"\" sold=\"N\"> <dl> <dt> <a class=\"goDrinkView\" href=\"javascript:void(0)\" prod=\"9200000000038\"><img alt=\"콜드 브루\" src=\"https://image.istarbucks.co.kr/upload/store/skuimg/2021/04/[9200000000038]_20210415155007285.jpg\"/></a> </dt> <dd>콜드 브루</dd> </dl> </li>, <li class=\"menuDataSet\" new=\"N\" recomm=\"0\" sell=\"\" sold=\"N\"> <dl> <dt> <a class=\"goDrinkView\" href=\"javascript:void(0)\" prod=\"9200000001636\"><img alt=\"콜드 브루 몰트\" src=\"https://image.istarbucks.co.kr/upload/store/skuimg/2021/02/[9200000001636]_20210225093600536.jpg\"/></a> </dt> <dd>콜드 브루 몰트</dd> </dl> </li>, <li class=\"menuDataSet\" new=\"N\" recomm=\"0\" sell=\"\" sold=\"N\"> <dl> <dt> <a class=\"goDrinkView\" href=\"javascript:void(0)\" prod=\"9200000001635\"><img alt=\"콜드 브루 플로트\" src=\"https://image.istarbucks.co.kr/upload/store/skuimg/2021/02/[9200000001635]_20210225092236748.jpg\"/></a> </dt> <dd>콜드 브루 플로트</dd> </dl> </li>, <li class=\"menuDataSet\" new=\"N\" recomm=\"0\" sell=\"0\" sold=\"N\"> <dl> <dt> <a class=\"goDrinkView\" href=\"javascript:void(0)\" prod=\"106509\"><img alt=\"아이스 커피\" src=\"https://image.istarbucks.co.kr/upload/store/skuimg/2015/07/[106509]_20150724164325806.jpg\"/></a> </dt> <dd>아이스 커피</dd> </dl> </li>, <li class=\"menuDataSet\" new=\"N\" recomm=\"0\" sell=\"0\" sold=\"N\"> <dl> <dt> <a class=\"goDrinkView\" href=\"javascript:void(0)\" prod=\"2\"><img alt=\"오늘의 커피\" src=\"https://image.istarbucks.co.kr/upload/store/skuimg/2015/07/[2]_20150724164438965.jpg\"/></a> </dt> <dd>오늘의 커피</dd> </dl> </li>, <li class=\"menuDataSet\" new=\"Y\" recomm=\"0\" sell=\"\" sold=\"N\"> <dl> <dt> <a class=\"goDrinkView\" href=\"javascript:void(0)\" prod=\"9200000003427\"><img alt=\"제주 별다방 땅콩 라떼\" src=\"https://image.istarbucks.co.kr/upload/store/skuimg/2021/03/[9200000003427]_20210324165929651.jpg\"/></a> <ul> <li><img alt=\"NEW\" src=\"//image.istarbucks.co.kr/common/img/menu/mark01.png\"/></li> </ul> </dt> <dd>제주 별다방 땅콩 라떼</dd> </dl> </li>, <li class=\"menuDataSet\" new=\"Y\" recomm=\"0\" sell=\"\" sold=\"N\"> <dl> <dt> <a class=\"goDrinkView\" href=\"javascript:void(0)\" prod=\"9200000003505\"><img alt=\"사케라또 아포가토\" src=\"https://image.istarbucks.co.kr/upload/store/skuimg/2021/03/[9200000003505]_20210322093241535.jpg\"/></a> <ul> <li><img alt=\"NEW\" src=\"//image.istarbucks.co.kr/common/img/menu/mark01.png\"/></li> </ul> </dt> <dd>사케라또 아포가토</dd> </dl> </li>, <li class=\"menuDataSet\" new=\"Y\" recomm=\"0\" sell=\"\" sold=\"N\"> <dl> <dt> <a class=\"goDrinkView\" href=\"javascript:void(0)\" prod=\"9200000003506\"><img alt=\"스파클링 시트러스 에스프레소\" src=\"https://image.istarbucks.co.kr/upload/store/skuimg/2021/03/[9200000003506]_20210322093317854.jpg\"/></a> <ul> <li><img alt=\"NEW\" src=\"//image.istarbucks.co.kr/common/img/menu/mark01.png\"/></li> </ul> </dt> <dd>스파클링 시트러스 에스프레소</dd> </dl> </li>, <li class=\"menuDataSet\" new=\"N\" recomm=\"0\" sell=\"0\" sold=\"N\"> <dl> <dt> <a class=\"goDrinkView\" href=\"javascript:void(0)\" prod=\"30\"><img alt=\"에스프레소 콘 파나\" src=\"https://image.istarbucks.co.kr/upload/store/skuimg/2021/04/[30]_20210415144252244.jpg\"/></a> </dt> <dd>에스프레소 콘 파나</dd> </dl> </li>, <li class=\"menuDataSet\" new=\"N\" recomm=\"0\" sell=\"0\" sold=\"N\"> <dl> <dt> <a class=\"goDrinkView\" href=\"javascript:void(0)\" prod=\"25\"><img alt=\"에스프레소 마키아또\" src=\"https://image.istarbucks.co.kr/upload/store/skuimg/2021/04/[25]_20210415144211211.jpg\"/></a> </dt> <dd>에스프레소 마키아또</dd> </dl> </li>, <li class=\"menuDataSet\" new=\"N\" recomm=\"0\" sell=\"0\" sold=\"N\"> <dl> <dt> <a class=\"goDrinkView\" href=\"javascript:void(0)\" prod=\"110563\"><img alt=\"아이스 카페 아메리카노\" src=\"https://image.istarbucks.co.kr/upload/store/skuimg/2015/08/[110563]_20150813222100205.jpg\"/></a> </dt> <dd>아이스 카페 아메리카노</dd> </dl> </li>, <li class=\"menuDataSet\" new=\"N\" recomm=\"0\" sell=\"0\" sold=\"N\"> <dl> <dt> <a class=\"goDrinkView\" href=\"javascript:void(0)\" prod=\"94\"><img alt=\"카페 아메리카노\" src=\"https://image.istarbucks.co.kr/upload/store/skuimg/2015/08/[94]_20150813222021797.jpg\"/></a> </dt> <dd>카페 아메리카노</dd> </dl> </li>, <li class=\"menuDataSet\" new=\"N\" recomm=\"0\" sell=\"0\" sold=\"N\"> <dl> <dt> <a class=\"goDrinkView\" href=\"javascript:void(0)\" prod=\"110582\"><img alt=\"아이스 카라멜 마키아또\" src=\"https://image.istarbucks.co.kr/upload/store/skuimg/2021/04/[110582]_20210415142706078.jpg\"/></a> </dt> <dd>아이스 카라멜 마키아또</dd> </dl> </li>, <li class=\"menuDataSet\" new=\"N\" recomm=\"0\" sell=\"0\" sold=\"N\"> <dl> <dt> <a class=\"goDrinkView\" href=\"javascript:void(0)\" prod=\"126197\"><img alt=\"카라멜 마키아또\" src=\"https://image.istarbucks.co.kr/upload/store/skuimg/2021/04/[126197]_20210415154609863.jpg\"/></a> </dt> <dd>카라멜 마키아또</dd> </dl> </li>, <li class=\"menuDataSet\" new=\"N\" recomm=\"0\" sell=\"0\" sold=\"N\"> <dl> <dt> <a class=\"goDrinkView\" href=\"javascript:void(0)\" prod=\"110601\"><img alt=\"아이스 카푸치노\" src=\"https://image.istarbucks.co.kr/upload/store/skuimg/2021/04/[110601]_20210415143400773.jpg\"/></a> </dt> <dd>아이스 카푸치노</dd> </dl> </li>, <li class=\"menuDataSet\" new=\"N\" recomm=\"0\" sell=\"0\" sold=\"N\"> <dl> <dt> <a class=\"goDrinkView\" href=\"javascript:void(0)\" prod=\"38\"><img alt=\"카푸치노\" src=\"https://image.istarbucks.co.kr/upload/store/skuimg/2021/04/[38]_20210415154821846.jpg\"/></a> </dt> <dd>카푸치노</dd> </dl> </li>, <li class=\"menuDataSet\" new=\"N\" recomm=\"0\" sell=\"\" sold=\"N\"> <dl> <dt> <a class=\"goDrinkView\" href=\"javascript:void(0)\" prod=\"9200000000432\"><img alt=\"라벤더 카페 브레베\" src=\"https://image.istarbucks.co.kr/upload/store/skuimg/2021/02/[9200000000432]_20210225090321791.jpg\"/></a> </dt> <dd>라벤더 카페 브레베</dd> </dl> </li>, <li class=\"menuDataSet\" new=\"N\" recomm=\"0\" sell=\"\" sold=\"N\"> <dl> <dt> <a class=\"goDrinkView\" href=\"javascript:void(0)\" prod=\"9200000001086\"><img alt=\"럼 샷 코르타도\" src=\"https://image.istarbucks.co.kr/upload/store/skuimg/2021/02/[9200000001086]_20210225090838931.jpg\"/></a> </dt> <dd>럼 샷 코르타도</dd> </dl> </li>, <li class=\"menuDataSet\" new=\"N\" recomm=\"0\" sell=\"\" sold=\"N\"> <dl> <dt> <a class=\"goDrinkView\" href=\"javascript:void(0)\" prod=\"9200000001939\"><img alt=\"바닐라 빈 라떼\" src=\"https://image.istarbucks.co.kr/upload/store/skuimg/2021/02/[9200000001939]_20210225094313315.jpg\"/></a> </dt> <dd>바닐라 빈 라떼</dd> </dl> </li>, <li class=\"menuDataSet\" new=\"N\" recomm=\"0\" sell=\"0\" sold=\"N\"> <dl> <dt> <a class=\"goDrinkView\" href=\"javascript:void(0)\" prod=\"128692\"><img alt=\"스타벅스 돌체 라떼\" src=\"https://image.istarbucks.co.kr/upload/store/skuimg/2015/07/[128692]_20150723020548334.jpg\"/></a> </dt> <dd>스타벅스 돌체 라떼</dd> </dl> </li>, <li class=\"menuDataSet\" new=\"N\" recomm=\"0\" sell=\"\" sold=\"N\"> <dl> <dt> <a class=\"goDrinkView\" href=\"javascript:void(0)\" prod=\"9200000000433\"><img alt=\"아이스 라벤더 카페 브레베\" src=\"https://image.istarbucks.co.kr/upload/store/skuimg/2021/02/[9200000000433]_20210225090722569.jpg\"/></a> </dt> <dd>아이스 라벤더 카페 브레베</dd> </dl> </li>, <li class=\"menuDataSet\" new=\"N\" recomm=\"0\" sell=\"\" sold=\"N\"> <dl> <dt> <a class=\"goDrinkView\" href=\"javascript:void(0)\" prod=\"9200000001941\"><img alt=\"아이스 바닐라 빈 라떼\" src=\"https://image.istarbucks.co.kr/upload/store/skuimg/2021/02/[9200000001941]_20210225094346653.jpg\"/></a> </dt> <dd>아이스 바닐라 빈 라떼</dd> </dl> </li>, <li class=\"menuDataSet\" new=\"N\" recomm=\"0\" sell=\"0\" sold=\"N\"> <dl> <dt> <a class=\"goDrinkView\" href=\"javascript:void(0)\" prod=\"128695\"><img alt=\"아이스 스타벅스 돌체 라떼\" src=\"https://image.istarbucks.co.kr/upload/store/skuimg/2015/08/[128695]_20150803100201827.jpg\"/></a> </dt> <dd>아이스 스타벅스 돌체 라떼</dd> </dl> </li>, <li class=\"menuDataSet\" new=\"N\" recomm=\"0\" sell=\"0\" sold=\"N\"> <dl> <dt> <a class=\"goDrinkView\" href=\"javascript:void(0)\" prod=\"110569\"><img alt=\"아이스 카페 라떼\" src=\"https://image.istarbucks.co.kr/upload/store/skuimg/2021/04/[110569]_20210415143035989.jpg\"/></a> </dt> <dd>아이스 카페 라떼</dd> </dl> </li>, <li class=\"menuDataSet\" new=\"N\" recomm=\"0\" sell=\"0\" sold=\"N\"> <dl> <dt> <a class=\"goDrinkView\" href=\"javascript:void(0)\" prod=\"41\"><img alt=\"카페 라떼\" src=\"https://image.istarbucks.co.kr/upload/store/skuimg/2021/04/[41]_20210415133833725.jpg\"/></a> </dt> <dd>카페 라떼</dd> </dl> </li>, <li class=\"menuDataSet\" new=\"N\" recomm=\"0\" sell=\"0\" sold=\"N\"> <dl> <dt> <a class=\"goDrinkView\" href=\"javascript:void(0)\" prod=\"110566\"><img alt=\"아이스 카페 모카\" src=\"https://image.istarbucks.co.kr/upload/store/skuimg/2021/04/[110566]_20210415134334280.jpg\"/></a> </dt> <dd>아이스 카페 모카</dd> </dl> </li>, <li class=\"menuDataSet\" new=\"N\" recomm=\"0\" sell=\"0\" sold=\"N\"> <dl> <dt> <a class=\"goDrinkView\" href=\"javascript:void(0)\" prod=\"110572\"><img alt=\"아이스 화이트 초콜릿 모카\" src=\"https://image.istarbucks.co.kr/upload/store/skuimg/2021/04/[110572]_20210415155545375.jpg\"/></a> </dt> <dd>아이스 화이트 초콜릿 모카</dd> </dl> </li>, <li class=\"menuDataSet\" new=\"N\" recomm=\"0\" sell=\"0\" sold=\"N\"> <dl> <dt> <a class=\"goDrinkView\" href=\"javascript:void(0)\" prod=\"46\"><img alt=\"카페 모카\" src=\"https://image.istarbucks.co.kr/upload/store/skuimg/2021/04/[46]_20210415134438165.jpg\"/></a> </dt> <dd>카페 모카</dd> </dl> </li>, <li class=\"menuDataSet\" new=\"N\" recomm=\"0\" sell=\"0\" sold=\"N\"> <dl> <dt> <a class=\"goDrinkView\" href=\"javascript:void(0)\" prod=\"128192\"><img alt=\"화이트 초콜릿 모카\" src=\"https://image.istarbucks.co.kr/upload/store/skuimg/2021/04/[128192]_20210415155639126.jpg\"/></a> </dt> <dd>화이트 초콜릿 모카</dd> </dl> </li>, <li class=\"menuDataSet\" new=\"N\" recomm=\"0\" sell=\"\" sold=\"N\"> <dl> <dt> <a class=\"goDrinkView\" href=\"javascript:void(0)\" prod=\"9200000002406\"><img alt=\"바닐라 플랫 화이트\" src=\"https://image.istarbucks.co.kr/upload/store/skuimg/2021/04/[9200000002406]_20210415135507733.jpg\"/></a> </dt> <dd>바닐라 플랫 화이트</dd> </dl> </li>, <li class=\"menuDataSet\" new=\"N\" recomm=\"0\" sell=\"0\" sold=\"N\"> <dl> <dt> <a class=\"goDrinkView\" href=\"javascript:void(0)\" prod=\"110612\"><img alt=\"바닐라 스타벅스 더블 샷\" src=\"https://image.istarbucks.co.kr/upload/store/skuimg/2021/04/[110612]_20210415133425373.jpg\"/></a> </dt> <dd>바닐라 스타벅스 더블 샷</dd> </dl> </li>, <li class=\"menuDataSet\" new=\"N\" recomm=\"0\" sell=\"\" sold=\"N\"> <dl> <dt> <a class=\"goDrinkView\" href=\"javascript:void(0)\" prod=\"9200000002950\"><img alt=\"블론드 바닐라 더블 샷 마키아또\" src=\"https://image.istarbucks.co.kr/upload/store/skuimg/2020/04/[9200000002950]_20200416142151248.jpg\"/></a> </dt> <dd>블론드 바닐라 더블 샷 마키아또</dd> </dl> </li>, <li class=\"menuDataSet\" new=\"N\" recomm=\"0\" sell=\"\" sold=\"N\"> <dl> <dt> <a class=\"goDrinkView\" href=\"javascript:void(0)\" prod=\"9200000002953\"><img alt=\"아이스 블론드 바닐라 더블 샷 마키아또\" src=\"https://image.istarbucks.co.kr/upload/store/skuimg/2020/04/[9200000002953]_20200416142415416.jpg\"/></a> </dt> <dd>아이스 블론드 바닐라 더블 샷 마키아또</dd> </dl> </li>, <li class=\"menuDataSet\" new=\"N\" recomm=\"0\" sell=\"0\" sold=\"N\"> <dl> <dt> <a class=\"goDrinkView\" href=\"javascript:void(0)\" prod=\"20\"><img alt=\"에스프레소\" src=\"https://image.istarbucks.co.kr/upload/store/skuimg/2021/04/[20]_20210415144112678.jpg\"/></a> </dt> <dd>에스프레소</dd> </dl> </li>, <li class=\"menuDataSet\" new=\"N\" recomm=\"0\" sell=\"0\" sold=\"N\"> <dl> <dt> <a class=\"goDrinkView\" href=\"javascript:void(0)\" prod=\"110611\"><img alt=\"커피 스타벅스 더블 샷\" src=\"https://image.istarbucks.co.kr/upload/store/skuimg/2021/04/[110611]_20210415132507539.jpg\"/></a> </dt> <dd>커피 스타벅스 더블 샷</dd> </dl> </li>, <li class=\"menuDataSet\" new=\"N\" recomm=\"0\" sell=\"\" sold=\"N\"> <dl> <dt> <a class=\"goDrinkView\" href=\"javascript:void(0)\" prod=\"9200000001631\"><img alt=\"클래식 아포가토\" src=\"https://image.istarbucks.co.kr/upload/store/skuimg/2021/02/[9200000001631]_20210225090916684.jpg\"/></a> </dt> <dd>클래식 아포가토</dd> </dl> </li>, <li class=\"menuDataSet\" new=\"N\" recomm=\"0\" sell=\"0\" sold=\"N\"> <dl> <dt> <a class=\"goDrinkView\" href=\"javascript:void(0)\" prod=\"110614\"><img alt=\"헤이즐넛 스타벅스 더블 샷\" src=\"https://image.istarbucks.co.kr/upload/store/skuimg/2021/04/[110614]_20210415132333109.jpg\"/></a> </dt> <dd>헤이즐넛 스타벅스 더블 샷</dd> </dl> </li>, <li class=\"menuDataSet\" new=\"Y\" recomm=\"0\" sell=\"\" sold=\"N\"> <dl> <dt> <a class=\"goDrinkView\" href=\"javascript:void(0)\" prod=\"9200000003428\"><img alt=\"제주 별다방 땅콩 프라푸치노\" src=\"https://image.istarbucks.co.kr/upload/store/skuimg/2021/03/[9200000003428]_20210324170024893.jpg\"/></a> <ul> <li><img alt=\"NEW\" src=\"//image.istarbucks.co.kr/common/img/menu/mark01.png\"/></li> </ul> </dt> <dd>제주 별다방 땅콩 프라푸치노</dd> </dl> </li>, <li class=\"menuDataSet\" new=\"Y\" recomm=\"0\" sell=\"1\" sold=\"N\"> <dl> <dt> <a class=\"goDrinkView\" href=\"javascript:void(0)\" prod=\"9200000003434\"><img alt=\"바나나 크림 다크 초코 블렌디드\" src=\"https://image.istarbucks.co.kr/upload/store/skuimg/2021/04/[9200000003434]_20210401093043581.jpg\"/></a> <ul> <li><img alt=\"NEW\" src=\"//image.istarbucks.co.kr/common/img/menu/mark01.png\"/></li> <li><img alt=\"시즌 한정\" src=\"//image.istarbucks.co.kr/common/img/menu/mark02.png\"/></li> </ul> </dt> <dd>바나나 크림 다크 초코 블렌디드</dd> </dl> </li>, <li class=\"menuDataSet\" new=\"N\" recomm=\"0\" sell=\"\" sold=\"N\"> <dl> <dt> <a class=\"goDrinkView\" href=\"javascript:void(0)\" prod=\"9200000002760\"><img alt=\"더블 에스프레소 칩 프라푸치노\" src=\"https://image.istarbucks.co.kr/upload/store/skuimg/2021/04/[9200000002760]_20210415133558068.jpg\"/></a> </dt> <dd>더블 에스프레소 칩 프라푸치노</dd> </dl> </li>, <li class=\"menuDataSet\" new=\"N\" recomm=\"0\" sell=\"0\" sold=\"N\"> <dl> <dt> <a class=\"goDrinkView\" href=\"javascript:void(0)\" prod=\"168004\"><img alt=\"모카 프라푸치노\" src=\"https://image.istarbucks.co.kr/upload/store/skuimg/2021/04/[168004]_20210415134634723.jpg\"/></a> </dt> <dd>모카 프라푸치노</dd> </dl> </li>, <li class=\"menuDataSet\" new=\"N\" recomm=\"0\" sell=\"0\" sold=\"N\"> <dl> <dt> <a class=\"goDrinkView\" href=\"javascript:void(0)\" prod=\"168007\"><img alt=\"에스프레소 프라푸치노\" src=\"https://image.istarbucks.co.kr/upload/store/skuimg/2021/04/[168007]_20210415144337428.jpg\"/></a> </dt> <dd>에스프레소 프라푸치노</dd> </dl> </li>, <li class=\"menuDataSet\" new=\"N\" recomm=\"0\" sell=\"0\" sold=\"N\"> <dl> <dt> <a class=\"goDrinkView\" href=\"javascript:void(0)\" prod=\"168016\"><img alt=\"자바 칩 프라푸치노\" src=\"https://image.istarbucks.co.kr/upload/store/skuimg/2021/04/[168016]_20210415154152122.jpg\"/></a> </dt> <dd>자바 칩 프라푸치노</dd> </dl> </li>, <li class=\"menuDataSet\" new=\"N\" recomm=\"0\" sell=\"0\" sold=\"N\"> <dl> <dt> <a class=\"goDrinkView\" href=\"javascript:void(0)\" prod=\"168010\"><img alt=\"카라멜 프라푸치노\" src=\"https://image.istarbucks.co.kr/upload/store/skuimg/2021/04/[168010]_20210415154711116.jpg\"/></a> </dt> <dd>카라멜 프라푸치노</dd> </dl> </li>, <li class=\"menuDataSet\" new=\"N\" recomm=\"0\" sell=\"0\" sold=\"N\"> <dl> <dt> <a class=\"goDrinkView\" href=\"javascript:void(0)\" prod=\"168013\"><img alt=\"화이트 초콜릿 모카 프라푸치노\" src=\"https://image.istarbucks.co.kr/upload/store/skuimg/2021/04/[168013]_20210415155746379.jpg\"/></a> </dt> <dd>화이트 초콜릿 모카 프라푸치노</dd> </dl> </li>, <li class=\"menuDataSet\" new=\"N\" recomm=\"0\" sell=\"0\" sold=\"N\"> <dl> <dt> <a class=\"goDrinkView\" href=\"javascript:void(0)\" prod=\"168054\"><img alt=\"바닐라 크림 프라푸치노\" src=\"https://image.istarbucks.co.kr/upload/store/skuimg/2021/04/[168054]_20210415135751840.jpg\"/></a> </dt> <dd>바닐라 크림 프라푸치노</dd> </dl> </li>, <li class=\"menuDataSet\" new=\"N\" recomm=\"0\" sell=\"\" sold=\"N\"> <dl> <dt> <a class=\"goDrinkView\" href=\"javascript:void(0)\" prod=\"9200000002088\"><img alt=\"제주 까망 크림 프라푸치노\" src=\"https://image.istarbucks.co.kr/upload/store/skuimg/2020/09/[9200000002088]_20200921171733532.jpg\"/></a> </dt> <dd>제주 까망 크림 프라푸치노</dd> </dl> </li>, <li class=\"menuDataSet\" new=\"N\" recomm=\"0\" sell=\"\" sold=\"N\"> <dl> <dt> <a class=\"goDrinkView\" href=\"javascript:void(0)\" prod=\"9200000002090\"><img alt=\"제주 쑥떡 크림 프라푸치노\" src=\"https://image.istarbucks.co.kr/upload/store/skuimg/2020/09/[9200000002090]_20200921171357273.jpg\"/></a> </dt> <dd>제주 쑥떡 크림 프라푸치노</dd> </dl> </li>, <li class=\"menuDataSet\" new=\"N\" recomm=\"0\" sell=\"\" sold=\"N\"> <dl> <dt> <a class=\"goDrinkView\" href=\"javascript:void(0)\" prod=\"9200000002502\"><img alt=\"제주 유기농 말차로 만든 크림 프라푸치노\" src=\"https://image.istarbucks.co.kr/upload/store/skuimg/2019/12/[9200000002502]_20191227095721734.jpg\"/></a> </dt> <dd>제주 유기농 말차로 만든 크림 프라푸치노</dd> </dl> </li>, <li class=\"menuDataSet\" new=\"N\" recomm=\"0\" sell=\"0\" sold=\"N\"> <dl> <dt> <a class=\"goDrinkView\" href=\"javascript:void(0)\" prod=\"168066\"><img alt=\"초콜릿 크림 칩 프라푸치노\" src=\"https://image.istarbucks.co.kr/upload/store/skuimg/2021/04/[168066]_20210415154429750.jpg\"/></a> </dt> <dd>초콜릿 크림 칩 프라푸치노</dd> </dl> </li>, <li class=\"menuDataSet\" new=\"N\" recomm=\"0\" sell=\"\" sold=\"N\"> <dl> <dt> <a class=\"goDrinkView\" href=\"javascript:void(0)\" prod=\"9200000002161\"><img alt=\"화이트 딸기 크림 프라푸치노\" src=\"https://image.istarbucks.co.kr/upload/store/skuimg/2021/04/[9200000002161]_20210419131453303.jpg\"/></a> </dt> <dd>화이트 딸기 크림 프라푸치노</dd> </dl> </li>, <li class=\"menuDataSet\" new=\"N\" recomm=\"0\" sell=\"\" sold=\"N\"> <dl> <dt> <a class=\"goDrinkView\" href=\"javascript:void(0)\" prod=\"9200000002403\"><img alt=\"화이트 타이거 프라푸치노\" src=\"https://image.istarbucks.co.kr/upload/store/skuimg/2021/04/[9200000002403]_20210419131548656.jpg\"/></a> </dt> <dd>화이트 타이거 프라푸치노</dd> </dl> </li>, <li class=\"menuDataSet\" new=\"Y\" recomm=\"0\" sell=\"\" sold=\"N\"> <dl> <dt> <a class=\"goDrinkView\" href=\"javascript:void(0)\" prod=\"9200000003429\"><img alt=\"제주 천혜향 블랙 티 블렌디드\" src=\"https://image.istarbucks.co.kr/upload/store/skuimg/2021/03/[9200000003429]_20210324170119079.jpg\"/></a> <ul> <li><img alt=\"NEW\" src=\"//image.istarbucks.co.kr/common/img/menu/mark01.png\"/></li> </ul> </dt> <dd>제주 천혜향 블랙 티 블렌디드</dd> </dl> </li>, <li class=\"menuDataSet\" new=\"N\" recomm=\"0\" sell=\"0\" sold=\"N\"> <dl> <dt> <a class=\"goDrinkView\" href=\"javascript:void(0)\" prod=\"167004\"><img alt=\"망고 패션 후르츠 블렌디드\" src=\"https://image.istarbucks.co.kr/upload/store/skuimg/2021/04/[167004]_20210419130801597.jpg\"/></a> </dt> <dd>망고 패션 후르츠 블렌디드</dd> </dl> </li>, <li class=\"menuDataSet\" new=\"N\" recomm=\"0\" sell=\"0\" sold=\"N\"> <dl> <dt> <a class=\"goDrinkView\" href=\"javascript:void(0)\" prod=\"9200000003276\"><img alt=\"딸기 딜라이트 요거트 블렌디드\" src=\"https://image.istarbucks.co.kr/upload/store/skuimg/2021/04/[9200000003276]_20210416154001403.jpg\"/></a> </dt> <dd>딸기 딜라이트 요거트 블렌디드</dd> </dl> </li>, <li class=\"menuDataSet\" new=\"N\" recomm=\"0\" sell=\"0\" sold=\"N\"> <dl> <dt> <a class=\"goDrinkView\" href=\"javascript:void(0)\" prod=\"169001\"><img alt=\"망고 바나나 블렌디드\" src=\"https://image.istarbucks.co.kr/upload/store/skuimg/2021/04/[169001]_20210419130701792.jpg\"/></a> </dt> <dd>망고 바나나 블렌디드</dd> </dl> </li>, <li class=\"menuDataSet\" new=\"N\" recomm=\"0\" sell=\"\" sold=\"N\"> <dl> <dt> <a class=\"goDrinkView\" href=\"javascript:void(0)\" prod=\"9200000002153\"><img alt=\"자몽 셔벗 블렌디드\" src=\"https://image.istarbucks.co.kr/upload/store/skuimg/2021/04/[9200000002153]_20210419111729791.jpg\"/></a> </dt> <dd>자몽 셔벗 블렌디드</dd> </dl> </li>, <li class=\"menuDataSet\" new=\"N\" recomm=\"0\" sell=\"\" sold=\"N\"> <dl> <dt> <a class=\"goDrinkView\" href=\"javascript:void(0)\" prod=\"9200000002766\"><img alt=\"피치 &amp; 레몬 블렌디드\" src=\"https://image.istarbucks.co.kr/upload/store/skuimg/2021/04/[9200000002766]_20210419125528821.jpg\"/></a> </dt> <dd>피치 &amp; 레몬 블렌디드</dd> </dl> </li>, <li class=\"menuDataSet\" new=\"N\" recomm=\"0\" sell=\"0\" sold=\"N\"> <dl> <dt> <a class=\"goDrinkView\" href=\"javascript:void(0)\" prod=\"107025\"><img alt=\"블랙 티 레모네이드 피지오\" src=\"https://image.istarbucks.co.kr/upload/store/skuimg/2021/04/[107025]_20210419104756955.jpg\"/></a> </dt> <dd>블랙 티 레모네이드 피지오</dd> </dl> </li>, <li class=\"menuDataSet\" new=\"N\" recomm=\"0\" sell=\"0\" sold=\"N\"> <dl> <dt> <a class=\"goDrinkView\" href=\"javascript:void(0)\" prod=\"107051\"><img alt=\"쿨 라임 피지오\" src=\"https://image.istarbucks.co.kr/upload/store/skuimg/2021/04/[107051]_20210419112151972.jpg\"/></a> </dt> <dd>쿨 라임 피지오</dd> </dl> </li>, <li class=\"menuDataSet\" new=\"N\" recomm=\"0\" sell=\"0\" sold=\"N\"> <dl> <dt> <a class=\"goDrinkView\" href=\"javascript:void(0)\" prod=\"107031\"><img alt=\"패션 탱고 티 레모네이드 피지오\" src=\"https://image.istarbucks.co.kr/upload/store/skuimg/2021/04/[107031]_20210419125349904.jpg\"/></a> </dt> <dd>패션 탱고 티 레모네이드 피지오</dd> </dl> </li>, <li class=\"menuDataSet\" new=\"N\" recomm=\"0\" sell=\"\" sold=\"N\"> <dl> <dt> <a class=\"goDrinkView\" href=\"javascript:void(0)\" prod=\"9200000001321\"><img alt=\"핑크 자몽 피지오\" src=\"https://image.istarbucks.co.kr/upload/store/skuimg/2021/04/[9200000001321]_20210419125625164.jpg\"/></a> </dt> <dd>핑크 자몽 피지오</dd> </dl> </li>, <li class=\"menuDataSet\" new=\"Y\" recomm=\"0\" sell=\"\" sold=\"N\"> <dl> <dt> <a class=\"goDrinkView\" href=\"javascript:void(0)\" prod=\"9200000003511\"><img alt=\"별궁 오미자 유스베리 티\" src=\"https://image.istarbucks.co.kr/upload/store/skuimg/2021/03/[9200000003511]_20210322093158370.jpg\"/></a> <ul> <li><img alt=\"NEW\" src=\"//image.istarbucks.co.kr/common/img/menu/mark01.png\"/></li> </ul> </dt> <dd>별궁 오미자 유스베리 티</dd> </dl> </li>, <li class=\"menuDataSet\" new=\"Y\" recomm=\"0\" sell=\"\" sold=\"N\"> <dl> <dt> <a class=\"goDrinkView\" href=\"javascript:void(0)\" prod=\"9200000003512\"><img alt=\"아이스 별궁 오미자 유스베리 티\" src=\"https://image.istarbucks.co.kr/upload/store/skuimg/2021/03/[9200000003512]_20210322093119881.jpg\"/></a> <ul> <li><img alt=\"NEW\" src=\"//image.istarbucks.co.kr/common/img/menu/mark01.png\"/></li> </ul> </dt> <dd>아이스 별궁 오미자 유스베리 티</dd> </dl> </li>, <li class=\"menuDataSet\" new=\"Y\" recomm=\"0\" sell=\"\" sold=\"N\"> <dl> <dt> <a class=\"goDrinkView\" href=\"javascript:void(0)\" prod=\"9200000003516\"><img alt=\"아이스 푸를 청귤 민트 티\" src=\"https://image.istarbucks.co.kr/upload/store/skuimg/2021/03/[9200000003516]_20210322093050113.jpg\"/></a> <ul> <li><img alt=\"NEW\" src=\"//image.istarbucks.co.kr/common/img/menu/mark01.png\"/></li> </ul> </dt> <dd>아이스 푸를 청귤 민트 티</dd> </dl> </li>, <li class=\"menuDataSet\" new=\"Y\" recomm=\"0\" sell=\"\" sold=\"N\"> <dl> <dt> <a class=\"goDrinkView\" href=\"javascript:void(0)\" prod=\"9200000003514\"><img alt=\"아이스 콩고물 블랙 밀크 티\" src=\"https://image.istarbucks.co.kr/upload/store/skuimg/2021/03/[9200000003514]_20210322092951530.jpg\"/></a> <ul> <li><img alt=\"NEW\" src=\"//image.istarbucks.co.kr/common/img/menu/mark01.png\"/></li> </ul> </dt> <dd>아이스 콩고물 블랙 밀크 티</dd> </dl> </li>, <li class=\"menuDataSet\" new=\"Y\" recomm=\"0\" sell=\"\" sold=\"N\"> <dl> <dt> <a class=\"goDrinkView\" href=\"javascript:void(0)\" prod=\"9200000003513\"><img alt=\"콩고물 블랙 밀크 티\" src=\"https://image.istarbucks.co.kr/upload/store/skuimg/2021/03/[9200000003513]_20210322092740277.jpg\"/></a> <ul> <li><img alt=\"NEW\" src=\"//image.istarbucks.co.kr/common/img/menu/mark01.png\"/></li> </ul> </dt> <dd>콩고물 블랙 밀크 티</dd> </dl> </li>, <li class=\"menuDataSet\" new=\"N\" recomm=\"0\" sell=\"\" sold=\"N\"> <dl> <dt> <a class=\"goDrinkView\" href=\"javascript:void(0)\" prod=\"9200000001931\"><img alt=\"라임 패션 티\" src=\"https://image.istarbucks.co.kr/upload/store/skuimg/2021/04/[9200000001931]_20210419130043730.jpg\"/></a> </dt> <dd>라임 패션 티</dd> </dl> </li>, <li class=\"menuDataSet\" new=\"N\" recomm=\"0\" sell=\"0\" sold=\"N\"> <dl> <dt> <a class=\"goDrinkView\" href=\"javascript:void(0)\" prod=\"4004000000056\"><img alt=\"민트 블렌드 티\" src=\"https://image.istarbucks.co.kr/upload/store/skuimg/2021/04/[4004000000056]_20210415135215632.jpg\"/></a> </dt> <dd>민트 블렌드 티</dd> </dl> </li>, <li class=\"menuDataSet\" new=\"N\" recomm=\"0\" sell=\"\" sold=\"N\"> <dl> <dt> <a class=\"goDrinkView\" href=\"javascript:void(0)\" prod=\"9200000001933\"><img alt=\"아이스 라임 패션 티\" src=\"https://image.istarbucks.co.kr/upload/store/skuimg/2021/04/[9200000001933]_20210419130604205.jpg\"/></a> </dt> <dd>아이스 라임 패션 티</dd> </dl> </li>, <li class=\"menuDataSet\" new=\"N\" recomm=\"0\" sell=\"0\" sold=\"N\"> <dl> <dt> <a class=\"goDrinkView\" href=\"javascript:void(0)\" prod=\"4004000000059\"><img alt=\"아이스 민트 블렌드 티\" src=\"https://image.istarbucks.co.kr/upload/store/skuimg/2021/04/[4004000000059]_20210415141656038.jpg\"/></a> </dt> <dd>아이스 민트 블렌드 티</dd> </dl> </li>, <li class=\"menuDataSet\" new=\"N\" recomm=\"0\" sell=\"\" sold=\"N\"> <dl> <dt> <a class=\"goDrinkView\" href=\"javascript:void(0)\" prod=\"4004000000039\"><img alt=\"아이스 얼 그레이 티\" src=\"https://image.istarbucks.co.kr/upload/store/skuimg/2021/04/[4004000000039]_20210415142055860.jpg\"/></a> </dt> <dd>아이스 얼 그레이 티</dd> </dl> </li>, <li class=\"menuDataSet\" new=\"N\" recomm=\"0\" sell=\"\" sold=\"N\"> <dl> <dt> <a class=\"goDrinkView\" href=\"javascript:void(0)\" prod=\"9200000000229\"><img alt=\"아이스 유스베리 티\" src=\"https://image.istarbucks.co.kr/upload/store/skuimg/2021/04/[9200000000229]_20210415142219481.jpg\"/></a> </dt> <dd>아이스 유스베리 티</dd> </dl> </li>, <li class=\"menuDataSet\" new=\"N\" recomm=\"0\" sell=\"\" sold=\"N\"> <dl> <dt> <a class=\"goDrinkView\" href=\"javascript:void(0)\" prod=\"9200000002959\"><img alt=\"아이스 유자 민트 티\" src=\"https://image.istarbucks.co.kr/upload/store/skuimg/2020/06/[9200000002959]_20200616103540666.jpg\"/></a> </dt> <dd>아이스 유자 민트 티</dd> </dl> </li>, <li class=\"menuDataSet\" new=\"N\" recomm=\"0\" sell=\"\" sold=\"N\"> <dl> <dt> <a class=\"goDrinkView\" href=\"javascript:void(0)\" prod=\"4004000000019\"><img alt=\"아이스 잉글리쉬 브렉퍼스트 티\" src=\"https://image.istarbucks.co.kr/upload/store/skuimg/2021/04/[4004000000019]_20210415142323353.jpg\"/></a> </dt> <dd>아이스 잉글리쉬 브렉퍼스트 티</dd> </dl> </li>, <li class=\"menuDataSet\" new=\"N\" recomm=\"0\" sell=\"0\" sold=\"N\"> <dl> <dt> <a class=\"goDrinkView\" href=\"javascript:void(0)\" prod=\"400400000094\"><img alt=\"아이스 제주 유기 녹차\" src=\"https://image.istarbucks.co.kr/upload/store/skuimg/2021/04/[400400000094]_20210415230316469.jpg\"/></a> </dt> <dd>아이스 제주 유기 녹차</dd> </dl> </li>, <li class=\"menuDataSet\" new=\"N\" recomm=\"0\" sell=\"0\" sold=\"N\"> <dl> <dt> <a class=\"goDrinkView\" href=\"javascript:void(0)\" prod=\"4004000000079\"><img alt=\"아이스 캐모마일 블렌드 티\" src=\"https://image.istarbucks.co.kr/upload/store/skuimg/2021/04/[4004000000079]_20210415143641139.jpg\"/></a> </dt> <dd>아이스 캐모마일 블렌드 티</dd> </dl> </li>, <li class=\"menuDataSet\" new=\"N\" recomm=\"0\" sell=\"0\" sold=\"N\"> <dl> <dt> <a class=\"goDrinkView\" href=\"javascript:void(0)\" prod=\"4004000000069\"><img alt=\"아이스 히비스커스 블렌드 티\" src=\"https://image.istarbucks.co.kr/upload/store/skuimg/2021/04/[4004000000069]_20210415143811231.jpg\"/></a> </dt> <dd>아이스 히비스커스 블렌드 티</dd> </dl> </li>, <li class=\"menuDataSet\" new=\"N\" recomm=\"0\" sell=\"0\" sold=\"N\"> <dl> <dt> <a class=\"goDrinkView\" href=\"javascript:void(0)\" prod=\"4004000000036\"><img alt=\"얼 그레이 티\" src=\"https://image.istarbucks.co.kr/upload/store/skuimg/2021/04/[4004000000036]_20210415143933425.jpg\"/></a> </dt> <dd>얼 그레이 티</dd> </dl> </li>, <li class=\"menuDataSet\" new=\"N\" recomm=\"0\" sell=\"\" sold=\"N\"> <dl> <dt> <a class=\"goDrinkView\" href=\"javascript:void(0)\" prod=\"9200000000226\"><img alt=\"유스베리 티\" src=\"https://image.istarbucks.co.kr/upload/store/skuimg/2021/04/[9200000000226]_20210415144434521.jpg\"/></a> </dt> <dd>유스베리 티</dd> </dl> </li>, <li class=\"menuDataSet\" new=\"N\" recomm=\"0\" sell=\"\" sold=\"N\"> <dl> <dt> <a class=\"goDrinkView\" href=\"javascript:void(0)\" prod=\"9200000002956\"><img alt=\"유자 민트 티\" src=\"https://image.istarbucks.co.kr/upload/store/skuimg/2020/06/[9200000002956]_20200616103415670.jpg\"/></a> </dt> <dd>유자 민트 티</dd> </dl> </li>, <li class=\"menuDataSet\" new=\"N\" recomm=\"0\" sell=\"0\" sold=\"N\"> <dl> <dt> <a class=\"goDrinkView\" href=\"javascript:void(0)\" prod=\"4004000000016\"><img alt=\"잉글리쉬 브렉퍼스트 티\" src=\"https://image.istarbucks.co.kr/upload/store/skuimg/2021/04/[4004000000016]_20210415153648533.jpg\"/></a> </dt> <dd>잉글리쉬 브렉퍼스트 티</dd> </dl> </li>, <li class=\"menuDataSet\" new=\"N\" recomm=\"0\" sell=\"\" sold=\"N\"> <dl> <dt> <a class=\"goDrinkView\" href=\"javascript:void(0)\" prod=\"9200000000187\"><img alt=\"자몽 허니 블랙 티\" src=\"https://image.istarbucks.co.kr/upload/store/skuimg/2021/04/[9200000000187]_20210419131229539.jpg\"/></a> </dt> <dd>자몽 허니 블랙 티</dd> </dl> </li>, <li class=\"menuDataSet\" new=\"N\" recomm=\"0\" sell=\"0\" sold=\"N\"> <dl> <dt> <a class=\"goDrinkView\" href=\"javascript:void(0)\" prod=\"400400000091\"><img alt=\"제주 유기 녹차\" src=\"https://image.istarbucks.co.kr/upload/store/skuimg/2021/04/[400400000091]_20210415132229904.jpg\"/></a> </dt> <dd>제주 유기 녹차</dd> </dl> </li>, <li class=\"menuDataSet\" new=\"N\" recomm=\"0\" sell=\"0\" sold=\"N\"> <dl> <dt> <a class=\"goDrinkView\" href=\"javascript:void(0)\" prod=\"4004000000076\"><img alt=\"캐모마일 블렌드 티\" src=\"https://image.istarbucks.co.kr/upload/store/skuimg/2021/04/[4004000000076]_20210415154920731.jpg\"/></a> </dt> <dd>캐모마일 블렌드 티</dd> </dl> </li>, <li class=\"menuDataSet\" new=\"N\" recomm=\"0\" sell=\"\" sold=\"N\"> <dl> <dt> <a class=\"goDrinkView\" href=\"javascript:void(0)\" prod=\"9200000002754\"><img alt=\"피치 젤리 티\" src=\"https://image.istarbucks.co.kr/upload/store/skuimg/2021/04/[9200000002754]_20210419131406610.jpg\"/></a> </dt> <dd>피치 젤리 티</dd> </dl> </li>, <li class=\"menuDataSet\" new=\"N\" recomm=\"0\" sell=\"0\" sold=\"N\"> <dl> <dt> <a class=\"goDrinkView\" href=\"javascript:void(0)\" prod=\"4004000000066\"><img alt=\"히비스커스 블렌드 티\" src=\"https://image.istarbucks.co.kr/upload/store/skuimg/2021/04/[4004000000066]_20210415155836395.jpg\"/></a> </dt> <dd>히비스커스 블렌드 티</dd> </dl> </li>, <li class=\"menuDataSet\" new=\"N\" recomm=\"0\" sell=\"\" sold=\"N\"> <dl> <dt> <a class=\"goDrinkView\" href=\"javascript:void(0)\" prod=\"9200000000190\"><img alt=\"아이스 자몽 허니 블랙 티\" src=\"https://image.istarbucks.co.kr/upload/store/skuimg/2021/04/[9200000000190]_20210419131723532.jpg\"/></a> </dt> <dd>아이스 자몽 허니 블랙 티</dd> </dl> </li>, <li class=\"menuDataSet\" new=\"N\" recomm=\"0\" sell=\"\" sold=\"N\"> <dl> <dt> <a class=\"goDrinkView\" href=\"javascript:void(0)\" prod=\"9200000002757\"><img alt=\"피치 젤리 아이스 티\" src=\"https://image.istarbucks.co.kr/upload/store/skuimg/2021/04/[9200000002757]_20210419131327147.jpg\"/></a> </dt> <dd>피치 젤리 아이스 티</dd> </dl> </li>, <li class=\"menuDataSet\" new=\"N\" recomm=\"0\" sell=\"\" sold=\"N\"> <dl> <dt> <a class=\"goDrinkView\" href=\"javascript:void(0)\" prod=\"9200000002963\"><img alt=\"돌체 블랙 밀크 티\" src=\"https://image.istarbucks.co.kr/upload/store/skuimg/2020/06/[9200000002963]_20200616103700894.jpg\"/></a> </dt> <dd>돌체 블랙 밀크 티</dd> </dl> </li>, <li class=\"menuDataSet\" new=\"N\" recomm=\"0\" sell=\"\" sold=\"N\"> <dl> <dt> <a class=\"goDrinkView\" href=\"javascript:void(0)\" prod=\"9200000002966\"><img alt=\"아이스 돌체 블랙 밀크 티\" src=\"https://image.istarbucks.co.kr/upload/store/skuimg/2021/04/[9200000002966]_20210415125358643.jpg\"/></a> </dt> <dd>아이스 돌체 블랙 밀크 티</dd> </dl> </li>, <li class=\"menuDataSet\" new=\"N\" recomm=\"0\" sell=\"\" sold=\"N\"> <dl> <dt> <a class=\"goDrinkView\" href=\"javascript:void(0)\" prod=\"9200000002499\"><img alt=\"아이스 제주 유기농 말차로 만든 라떼\" src=\"https://image.istarbucks.co.kr/upload/store/skuimg/2021/04/[9200000002499]_20210419130902541.jpg\"/></a> </dt> <dd>아이스 제주 유기농 말차로 만든 라떼</dd> </dl> </li>, <li class=\"menuDataSet\" new=\"N\" recomm=\"0\" sell=\"0\" sold=\"N\"> <dl> <dt> <a class=\"goDrinkView\" href=\"javascript:void(0)\" prod=\"135612\"><img alt=\"아이스 차이 티 라떼\" src=\"https://image.istarbucks.co.kr/upload/store/skuimg/2021/04/[135612]_20210415142512793.jpg\"/></a> </dt> <dd>아이스 차이 티 라떼</dd> </dl> </li>, <li class=\"menuDataSet\" new=\"N\" recomm=\"0\" sell=\"\" sold=\"N\"> <dl> <dt> <a class=\"goDrinkView\" href=\"javascript:void(0)\" prod=\"9200000002496\"><img alt=\"제주 유기농 말차로 만든 라떼\" src=\"https://image.istarbucks.co.kr/upload/store/skuimg/2021/04/[9200000002496]_20210419131039350.jpg\"/></a> </dt> <dd>제주 유기농 말차로 만든 라떼</dd> </dl> </li>, <li class=\"menuDataSet\" new=\"N\" recomm=\"0\" sell=\"0\" sold=\"N\"> <dl> <dt> <a class=\"goDrinkView\" href=\"javascript:void(0)\" prod=\"135608\"><img alt=\"차이 티 라떼\" src=\"https://image.istarbucks.co.kr/upload/store/skuimg/2021/04/[135608]_20210415154244810.jpg\"/></a> </dt> <dd>차이 티 라떼</dd> </dl> </li>, <li class=\"menuDataSet\" new=\"Y\" recomm=\"0\" sell=\"1\" sold=\"N\"> <dl> <dt> <a class=\"goDrinkView\" href=\"javascript:void(0)\" prod=\"9200000003437\"><img alt=\"샤이닝 머스캣 에이드\" src=\"https://image.istarbucks.co.kr/upload/store/skuimg/2021/04/[9200000003437]_20210401093131824.jpg\"/></a> <ul> <li><img alt=\"NEW\" src=\"//image.istarbucks.co.kr/common/img/menu/mark01.png\"/></li> <li><img alt=\"시즌 한정\" src=\"//image.istarbucks.co.kr/common/img/menu/mark02.png\"/></li> </ul> </dt> <dd>샤이닝 머스캣 에이드</dd> </dl> </li>, <li class=\"menuDataSet\" new=\"Y\" recomm=\"0\" sell=\"\" sold=\"N\"> <dl> <dt> <a class=\"goDrinkView\" href=\"javascript:void(0)\" prod=\"9200000003430\"><img alt=\"제주 청귤 레모네이드\" src=\"https://image.istarbucks.co.kr/upload/store/skuimg/2021/03/[9200000003430]_20210324170218269.jpg\"/></a> <ul> <li><img alt=\"NEW\" src=\"//image.istarbucks.co.kr/common/img/menu/mark01.png\"/></li> </ul> </dt> <dd>제주 청귤 레모네이드</dd> </dl> </li>, <li class=\"menuDataSet\" new=\"N\" recomm=\"0\" sell=\"0\" sold=\"N\"> <dl> <dt> <a class=\"goDrinkView\" href=\"javascript:void(0)\" prod=\"72\"><img alt=\"시그니처 핫 초콜릿\" src=\"https://image.istarbucks.co.kr/upload/store/skuimg/2021/04/[72]_20210415140949967.jpg\"/></a> </dt> <dd>시그니처 핫 초콜릿</dd> </dl> </li>, <li class=\"menuDataSet\" new=\"N\" recomm=\"0\" sell=\"0\" sold=\"N\"> <dl> <dt> <a class=\"goDrinkView\" href=\"javascript:void(0)\" prod=\"110621\"><img alt=\"아이스 시그니처 초콜릿\" src=\"https://image.istarbucks.co.kr/upload/store/skuimg/2021/04/[110621]_20210415140901611.jpg\"/></a> </dt> <dd>아이스 시그니처 초콜릿</dd> </dl> </li>, <li class=\"menuDataSet\" new=\"N\" recomm=\"0\" sell=\"\" sold=\"N\"> <dl> <dt> <a class=\"goDrinkView\" href=\"javascript:void(0)\" prod=\"9200000000428\"><img alt=\"라임 플로터 위드 리저브 CB 샷\" src=\"https://image.istarbucks.co.kr/upload/store/skuimg/2021/02/[9200000000428]_20210225090055908.jpg\"/></a> </dt> <dd>라임 플로터 위드 리저브 CB 샷</dd> </dl> </li>, <li class=\"menuDataSet\" new=\"N\" recomm=\"0\" sell=\"0\" sold=\"N\"> <dl> <dt> <a class=\"goDrinkView\" href=\"javascript:void(0)\" prod=\"17\"><img alt=\"스팀 우유\" src=\"https://image.istarbucks.co.kr/upload/store/skuimg/2015/07/[17]_20150723005119481.jpg\"/></a> </dt> <dd>스팀 우유</dd> </dl> </li>, <li class=\"menuDataSet\" new=\"N\" recomm=\"0\" sell=\"\" sold=\"N\"> <dl> <dt> <a class=\"goDrinkView\" href=\"javascript:void(0)\" prod=\"9200000001302\"><img alt=\"아이스 제주 까망 라떼\" src=\"https://image.istarbucks.co.kr/upload/store/skuimg/2020/09/[9200000001302]_20200921171804529.jpg\"/></a> </dt> <dd>아이스 제주 까망 라떼</dd> </dl> </li>, <li class=\"menuDataSet\" new=\"N\" recomm=\"0\" sell=\"\" sold=\"N\"> <dl> <dt> <a class=\"goDrinkView\" href=\"javascript:void(0)\" prod=\"9200000000429\"><img alt=\"오렌지 플로터 위드 리저브 CB 샷\" src=\"https://image.istarbucks.co.kr/upload/store/skuimg/2021/02/[9200000000429]_20210225090138400.jpg\"/></a> </dt> <dd>오렌지 플로터 위드 리저브 CB 샷</dd> </dl> </li>, <li class=\"menuDataSet\" new=\"N\" recomm=\"0\" sell=\"0\" sold=\"N\"> <dl> <dt> <a class=\"goDrinkView\" href=\"javascript:void(0)\" prod=\"18\"><img alt=\"우유\" src=\"https://image.istarbucks.co.kr/upload/store/skuimg/2015/07/[18]_20150723002143131.jpg\"/></a> </dt> <dd>우유</dd> </dl> </li>, <li class=\"menuDataSet\" new=\"N\" recomm=\"0\" sell=\"\" sold=\"N\"> <dl> <dt> <a class=\"goDrinkView\" href=\"javascript:void(0)\" prod=\"9200000001301\"><img alt=\"제주 까망 라떼\" src=\"https://image.istarbucks.co.kr/upload/store/skuimg/2020/09/[9200000001301]_20200921171639781.jpg\"/></a> </dt> <dd>제주 까망 라떼</dd> </dl> </li>, <li class=\"menuDataSet\" new=\"N\" recomm=\"0\" sell=\"\" sold=\"N\"> <dl> <dt> <a class=\"goDrinkView\" href=\"javascript:void(0)\" prod=\"9200000002089\"><img alt=\"제주 쑥쑥 라떼\" src=\"https://image.istarbucks.co.kr/upload/store/skuimg/2020/09/[9200000002089]_20200921171510982.jpg\"/></a> </dt> <dd>제주 쑥쑥 라떼</dd> </dl> </li>, <li class=\"menuDataSet\" new=\"N\" recomm=\"0\" sell=\"\" sold=\"N\"> <dl> <dt> <a class=\"goDrinkView\" href=\"javascript:void(0)\" prod=\"9300000002853\"><img alt=\"기운내라임 190ML\" src=\"https://image.istarbucks.co.kr/upload/store/skuimg/2021/04/[9300000002853]_20210419104333070.jpg\"/></a> </dt> <dd>기운내라임 190ML</dd> </dl> </li>, <li class=\"menuDataSet\" new=\"N\" recomm=\"0\" sell=\"\" sold=\"N\"> <dl> <dt> <a class=\"goDrinkView\" href=\"javascript:void(0)\" prod=\"9300000002850\"><img alt=\"파이팅 청귤 190ML\" src=\"https://image.istarbucks.co.kr/upload/store/skuimg/2021/04/[9300000002850]_20210419125156886.jpg\"/></a> </dt> <dd>파이팅 청귤 190ML</dd> </dl> </li>, <li class=\"menuDataSet\" new=\"N\" recomm=\"0\" sell=\"\" sold=\"N\"> <dl> <dt> <a class=\"goDrinkView\" href=\"javascript:void(0)\" prod=\"9300000002854\"><img alt=\"한방에 쭉 감당 190ML\" src=\"https://image.istarbucks.co.kr/upload/store/skuimg/2021/04/[9300000002854]_20210419125705500.jpg\"/></a> </dt> <dd>한방에 쭉 감당 190ML</dd> </dl> </li>, <li class=\"menuDataSet\" new=\"N\" recomm=\"0\" sell=\"\" sold=\"N\"> <dl> <dt> <a class=\"goDrinkView\" href=\"javascript:void(0)\" prod=\"9300000002851\"><img alt=\"도와줘 흑흑 190ML\" src=\"https://image.istarbucks.co.kr/upload/store/skuimg/2021/04/[9300000002851]_20210419104534314.jpg\"/></a> </dt> <dd>도와줘 흑흑 190ML</dd> </dl> </li>, <li class=\"menuDataSet\" new=\"N\" recomm=\"0\" sell=\"0\" sold=\"N\"> <dl> <dt> <a class=\"goDrinkView\" href=\"javascript:void(0)\" prod=\"5210008070\"><img alt=\"딸기주스 190ML\" src=\"https://image.istarbucks.co.kr/upload/store/skuimg/2019/06/[5210008070]_20190627152902132.jpg\"/></a> </dt> <dd>딸기주스 190ML</dd> </dl> </li>, <li class=\"menuDataSet\" new=\"N\" recomm=\"0\" sell=\"0\" sold=\"N\"> <dl> <dt> <a class=\"goDrinkView\" href=\"javascript:void(0)\" prod=\"5210008061\"><img alt=\"망고주스 190ML\" src=\"https://image.istarbucks.co.kr/upload/store/skuimg/2019/06/[5210008061]_20190627152423110.jpg\"/></a> </dt> <dd>망고주스 190ML</dd> </dl> </li>, <li class=\"menuDataSet\" new=\"N\" recomm=\"0\" sell=\"\" sold=\"N\"> <dl> <dt> <a class=\"goDrinkView\" href=\"javascript:void(0)\" prod=\"9300000002115\"><img alt=\"수박주스 190ML\" src=\"https://image.istarbucks.co.kr/upload/store/skuimg/2021/04/[9300000002115]_20210419110440714.jpg\"/></a> </dt> <dd>수박주스 190ML</dd> </dl> </li>, <li class=\"menuDataSet\" new=\"N\" recomm=\"0\" sell=\"0\" sold=\"N\"> <dl> <dt> <a class=\"goDrinkView\" href=\"javascript:void(0)\" prod=\"5210008072\"><img alt=\"케일&amp;사과주스 190ML\" src=\"https://image.istarbucks.co.kr/upload/store/skuimg/2019/06/[5210008072]_20190627153051152.jpg\"/></a> </dt> <dd>케일&amp;사과주스 190ML</dd> </dl> </li>, <li class=\"menuDataSet\" new=\"N\" recomm=\"0\" sell=\"0\" sold=\"N\"> <dl> <dt> <a class=\"goDrinkView\" href=\"javascript:void(0)\" prod=\"5210008074\"><img alt=\"토마토주스 190ML\" src=\"https://image.istarbucks.co.kr/upload/store/skuimg/2021/04/[5210008074]_20210419112239085.jpg\"/></a> </dt> <dd>토마토주스 190ML</dd> </dl> </li>, <li class=\"menuDataSet\" new=\"N\" recomm=\"0\" sell=\"\" sold=\"N\"> <dl> <dt> <a class=\"goDrinkView\" href=\"javascript:void(0)\" prod=\"9300000002852\"><img alt=\"퍼플베리 굿 190ML\" src=\"https://image.istarbucks.co.kr/upload/store/skuimg/2020/06/[9300000002852]_20200616143324367.jpg\"/></a> </dt> <dd>퍼플베리 굿 190ML</dd> </dl> </li>, <li class=\"menuDataSet\" new=\"N\" recomm=\"0\" sell=\"0\" sold=\"N\"> <dl> <dt> <a class=\"goDrinkView\" href=\"javascript:void(0)\" prod=\"5210008055\"><img alt=\"한라봉주스 190ML\" src=\"https://image.istarbucks.co.kr/upload/store/skuimg/2019/06/[5210008055]_20190627152214722.jpg\"/></a> </dt> <dd>한라봉주스 190ML</dd> </dl> </li>, <li class=\"menuDataSet\" new=\"N\" recomm=\"0\" sell=\"\" sold=\"N\"> <dl> <dt> <a class=\"goDrinkView\" href=\"javascript:void(0)\" prod=\"9300000002565\"><img alt=\"햇사과 주스 190ML\" src=\"https://image.istarbucks.co.kr/upload/store/skuimg/2019/12/[9300000002565]_20191205134634839.jpg\"/></a> </dt> <dd>햇사과 주스 190ML</dd> </dl> </li>, <li class=\"menuDataSet\" new=\"N\" recomm=\"0\" sell=\"0\" sold=\"N\"> <dl> <dt> <a class=\"goDrinkView\" href=\"javascript:void(0)\" prod=\"5210008063\"><img alt=\"블루베리 요거트 190ML\" src=\"https://image.istarbucks.co.kr/upload/store/skuimg/2021/04/[5210008063]_20210419104847612.jpg\"/></a> </dt> <dd>블루베리 요거트 190ML</dd> </dl> </li>, <li class=\"menuDataSet\" new=\"N\" recomm=\"0\" sell=\"0\" sold=\"N\"> <dl> <dt> <a class=\"goDrinkView\" href=\"javascript:void(0)\" prod=\"5210008064\"><img alt=\"치아씨드 요거트 190ML\" src=\"https://image.istarbucks.co.kr/upload/store/skuimg/2021/04/[5210008064]_20210419112040842.jpg\"/></a> </dt> <dd>치아씨드 요거트 190ML</dd> </dl> </li>]\n"
     ]
    }
   ],
   "source": [
    "import csv\n",
    "import time\n",
    "from bs4 import BeautifulSoup\n",
    "from selenium import webdriver\n",
    "from random import random \n",
    "\n",
    "filename = \"Star.csv\"\n",
    "csv_file = open(filename, \"w+\", encoding =\"utf-8\")\n",
    "writer = csv.writer(csv_file)\n",
    "\n",
    "url = \"https://www.starbucks.co.kr/menu/drink_list.do\"\n",
    "res = webdriver.Chrome(\"./chromedriver\")\n",
    "res.get(url)\n",
    "time.sleep(5)# 3초간 대기\n",
    "\n",
    "html = res.page_source\n",
    "soup = BeautifulSoup(html, 'html.parser')\n",
    "\n",
    "items = soup.findAll('li', {\"class\":\"menuDataSet\"})\n",
    "print(items)\n",
    "for item in items:\n",
    "    temp = item.find('img')\n",
    "    item_img_url = temp['src']\n",
    "    item_name = temp['alt']\n",
    "    product = (item_name, item_img_url)\n",
    "    writer.writerow(product)\n",
    "\n",
    "csv_file.close()"
   ]
  },
  {
   "cell_type": "code",
   "execution_count": 40,
   "id": "frozen-drill",
   "metadata": {},
   "outputs": [
    {
     "data": {
      "text/plain": [
       "[<div class=\"story-entry__image-wrap\"><img class=\"story-entry__image\" src=\"https://image.ohou.se/i/bucketplace-v2-development/uploads/projects/cover_images/161883081158536282.jpg?gif=1&amp;w=850&amp;h=567&amp;c=c\" srcset=\"https://image.ohou.se/i/bucketplace-v2-development/uploads/projects/cover_images/161883081158536282.jpg?gif=1&amp;w=1280&amp;h=854&amp;c=c 1.5x,https://image.ohou.se/i/bucketplace-v2-development/uploads/projects/cover_images/161883081158536282.jpg?gif=1&amp;w=1700&amp;h=1134&amp;c=c 2x,https://image.ohou.se/i/bucketplace-v2-development/uploads/projects/cover_images/161883081158536282.jpg?gif=1&amp;w=2560&amp;h=1707&amp;c=c 3x\"/></div>,\n",
       " <div class=\"story-entry__image-wrap\"><img class=\"story-entry__image\" src=\"https://image.ohou.se/i/bucketplace-v2-development/uploads/projects/cover_images/161718137232535263.gif?gif=1&amp;w=320&amp;h=214&amp;c=c\" srcset=\"https://image.ohou.se/i/bucketplace-v2-development/uploads/projects/cover_images/161718137232535263.gif?gif=1&amp;w=480&amp;h=320&amp;c=c 1.5x,https://image.ohou.se/i/bucketplace-v2-development/uploads/projects/cover_images/161718137232535263.gif?gif=1&amp;w=640&amp;h=427&amp;c=c 2x,https://image.ohou.se/i/bucketplace-v2-development/uploads/projects/cover_images/161718137232535263.gif?gif=1&amp;w=850&amp;h=567&amp;c=c 3x\"/></div>,\n",
       " <div class=\"story-entry__image-wrap\"><img class=\"story-entry__image\" src=\"https://image.ohou.se/i/bucketplace-v2-development/uploads/cards/projects/161633133622915021.jpg?gif=1&amp;w=320&amp;h=214&amp;c=c\" srcset=\"https://image.ohou.se/i/bucketplace-v2-development/uploads/cards/projects/161633133622915021.jpg?gif=1&amp;w=480&amp;h=320&amp;c=c 1.5x,https://image.ohou.se/i/bucketplace-v2-development/uploads/cards/projects/161633133622915021.jpg?gif=1&amp;w=640&amp;h=427&amp;c=c 2x,https://image.ohou.se/i/bucketplace-v2-development/uploads/cards/projects/161633133622915021.jpg?gif=1&amp;w=850&amp;h=567&amp;c=c 3x\"/></div>,\n",
       " <div class=\"story-entry__image-wrap\"><img class=\"story-entry__image\" src=\"https://image.ohou.se/i/bucketplace-v2-development/uploads/cards/projects/161581460554804412.jpg?gif=1&amp;w=320&amp;h=214&amp;c=c\" srcset=\"https://image.ohou.se/i/bucketplace-v2-development/uploads/cards/projects/161581460554804412.jpg?gif=1&amp;w=480&amp;h=320&amp;c=c 1.5x,https://image.ohou.se/i/bucketplace-v2-development/uploads/cards/projects/161581460554804412.jpg?gif=1&amp;w=640&amp;h=427&amp;c=c 2x,https://image.ohou.se/i/bucketplace-v2-development/uploads/cards/projects/161581460554804412.jpg?gif=1&amp;w=850&amp;h=567&amp;c=c 3x\"/></div>,\n",
       " <div class=\"story-entry__image-wrap\"><div class=\"story-entry__image\"></div><svg class=\"story-entry__gallery-icon\" fill=\"currentColor\" height=\"24\" preserveaspectratio=\"xMidYMid meet\" viewbox=\"0 0 24 24\" width=\"24\"><path d=\"M20.21 5.053h.788A3.004 3.004 0 0 1 24 8.055v12.943A3.004 3.004 0 0 1 20.998 24H8.055a3.004 3.004 0 0 1-3.002-3.002v-.787h11.165c2.199 0 3.993-1.788 3.993-3.993V5.053zM0 3.003A3.004 3.004 0 0 1 3.002 0h12.943a3.004 3.004 0 0 1 3.002 3.002v12.943a3.004 3.004 0 0 1-3.002 3.002H3.002A3.004 3.004 0 0 1 0 15.945V3.002z\" fill-rule=\"evenodd\"></path></svg></div>,\n",
       " <div class=\"story-entry__image-wrap\"><div class=\"story-entry__image\"></div></div>,\n",
       " <div class=\"story-entry__image-wrap\"><div class=\"story-entry__image\"></div><svg class=\"story-entry__gallery-icon\" fill=\"currentColor\" height=\"24\" preserveaspectratio=\"xMidYMid meet\" viewbox=\"0 0 24 24\" width=\"24\"><path d=\"M20.21 5.053h.788A3.004 3.004 0 0 1 24 8.055v12.943A3.004 3.004 0 0 1 20.998 24H8.055a3.004 3.004 0 0 1-3.002-3.002v-.787h11.165c2.199 0 3.993-1.788 3.993-3.993V5.053zM0 3.003A3.004 3.004 0 0 1 3.002 0h12.943a3.004 3.004 0 0 1 3.002 3.002v12.943a3.004 3.004 0 0 1-3.002 3.002H3.002A3.004 3.004 0 0 1 0 15.945V3.002z\" fill-rule=\"evenodd\"></path></svg></div>,\n",
       " <div class=\"story-entry__image-wrap\"><div class=\"story-entry__image\"></div><svg class=\"story-entry__gallery-icon\" fill=\"currentColor\" height=\"24\" preserveaspectratio=\"xMidYMid meet\" viewbox=\"0 0 24 24\" width=\"24\"><path d=\"M20.21 5.053h.788A3.004 3.004 0 0 1 24 8.055v12.943A3.004 3.004 0 0 1 20.998 24H8.055a3.004 3.004 0 0 1-3.002-3.002v-.787h11.165c2.199 0 3.993-1.788 3.993-3.993V5.053zM0 3.003A3.004 3.004 0 0 1 3.002 0h12.943a3.004 3.004 0 0 1 3.002 3.002v12.943a3.004 3.004 0 0 1-3.002 3.002H3.002A3.004 3.004 0 0 1 0 15.945V3.002z\" fill-rule=\"evenodd\"></path></svg></div>,\n",
       " <div class=\"story-entry__image-wrap\"><div class=\"story-entry__image\"></div><svg class=\"story-entry__gallery-icon\" fill=\"currentColor\" height=\"24\" preserveaspectratio=\"xMidYMid meet\" viewbox=\"0 0 24 24\" width=\"24\"><path d=\"M20.21 5.053h.788A3.004 3.004 0 0 1 24 8.055v12.943A3.004 3.004 0 0 1 20.998 24H8.055a3.004 3.004 0 0 1-3.002-3.002v-.787h11.165c2.199 0 3.993-1.788 3.993-3.993V5.053zM0 3.003A3.004 3.004 0 0 1 3.002 0h12.943a3.004 3.004 0 0 1 3.002 3.002v12.943a3.004 3.004 0 0 1-3.002 3.002H3.002A3.004 3.004 0 0 1 0 15.945V3.002z\" fill-rule=\"evenodd\"></path></svg></div>,\n",
       " <div class=\"story-entry__image-wrap\"><div class=\"story-entry__image\"></div><svg class=\"story-entry__gallery-icon\" fill=\"currentColor\" height=\"24\" preserveaspectratio=\"xMidYMid meet\" viewbox=\"0 0 24 24\" width=\"24\"><path d=\"M20.21 5.053h.788A3.004 3.004 0 0 1 24 8.055v12.943A3.004 3.004 0 0 1 20.998 24H8.055a3.004 3.004 0 0 1-3.002-3.002v-.787h11.165c2.199 0 3.993-1.788 3.993-3.993V5.053zM0 3.003A3.004 3.004 0 0 1 3.002 0h12.943a3.004 3.004 0 0 1 3.002 3.002v12.943a3.004 3.004 0 0 1-3.002 3.002H3.002A3.004 3.004 0 0 1 0 15.945V3.002z\" fill-rule=\"evenodd\"></path></svg></div>,\n",
       " <div class=\"story-entry__image-wrap\"><div class=\"story-entry__image\"></div><svg class=\"story-entry__gallery-icon\" fill=\"currentColor\" height=\"24\" preserveaspectratio=\"xMidYMid meet\" viewbox=\"0 0 24 24\" width=\"24\"><path d=\"M20.21 5.053h.788A3.004 3.004 0 0 1 24 8.055v12.943A3.004 3.004 0 0 1 20.998 24H8.055a3.004 3.004 0 0 1-3.002-3.002v-.787h11.165c2.199 0 3.993-1.788 3.993-3.993V5.053zM0 3.003A3.004 3.004 0 0 1 3.002 0h12.943a3.004 3.004 0 0 1 3.002 3.002v12.943a3.004 3.004 0 0 1-3.002 3.002H3.002A3.004 3.004 0 0 1 0 15.945V3.002z\" fill-rule=\"evenodd\"></path></svg></div>,\n",
       " <div class=\"story-entry__image-wrap\"><div class=\"story-entry__image\"></div><svg class=\"story-entry__gallery-icon\" fill=\"currentColor\" height=\"24\" preserveaspectratio=\"xMidYMid meet\" viewbox=\"0 0 24 24\" width=\"24\"><path d=\"M20.21 5.053h.788A3.004 3.004 0 0 1 24 8.055v12.943A3.004 3.004 0 0 1 20.998 24H8.055a3.004 3.004 0 0 1-3.002-3.002v-.787h11.165c2.199 0 3.993-1.788 3.993-3.993V5.053zM0 3.003A3.004 3.004 0 0 1 3.002 0h12.943a3.004 3.004 0 0 1 3.002 3.002v12.943a3.004 3.004 0 0 1-3.002 3.002H3.002A3.004 3.004 0 0 1 0 15.945V3.002z\" fill-rule=\"evenodd\"></path></svg></div>,\n",
       " <div class=\"story-entry__image-wrap\"><div class=\"story-entry__image\"></div></div>,\n",
       " <div class=\"story-entry__image-wrap\"><div class=\"story-entry__image\"></div></div>,\n",
       " <div class=\"story-entry__image-wrap\"><div class=\"story-entry__image\"></div></div>,\n",
       " <div class=\"story-entry__image-wrap\"><div class=\"story-entry__image\"></div></div>,\n",
       " <div class=\"story-entry__image-wrap\"><div class=\"story-entry__image\"></div></div>,\n",
       " <div class=\"story-entry__image-wrap\"><div class=\"story-entry__image\"></div></div>]"
      ]
     },
     "execution_count": 40,
     "metadata": {},
     "output_type": "execute_result"
    }
   ],
   "source": [
    "items"
   ]
  },
  {
   "cell_type": "code",
   "execution_count": 45,
   "id": "continued-engine",
   "metadata": {},
   "outputs": [
    {
     "name": "stdout",
     "output_type": "stream",
     "text": [
      "https://image.ohou.se/i/bucketplace-v2-development/uploads/projects/cover_images/161883081158536282.jpg?gif=1&w=850&h=567&c=c None\n",
      "https://image.ohou.se/i/bucketplace-v2-development/uploads/projects/cover_images/161718137232535263.gif?gif=1&w=320&h=214&c=c None\n",
      "https://image.ohou.se/i/bucketplace-v2-development/uploads/cards/projects/161633133622915021.jpg?gif=1&w=320&h=214&c=c None\n",
      "https://image.ohou.se/i/bucketplace-v2-development/uploads/cards/projects/161581460554804412.jpg?gif=1&w=320&h=214&c=c None\n"
     ]
    }
   ],
   "source": [
    "import csv\n",
    "import time\n",
    "from bs4 import BeautifulSoup\n",
    "from selenium import webdriver\n",
    "from random import random \n",
    "\n",
    "filename = \"House.csv\"\n",
    "csv_file = open(filename, \"w\", encoding =\"utf-8-sig\")\n",
    "writer = csv.writer(csv_file)\n",
    "\n",
    "url = \"https://ohou.se/\"\n",
    "res = webdriver.Chrome(\"./chromedriver\")\n",
    "res.maximize_window()\n",
    "res.get(url)\n",
    "time.sleep(5)# 3초간 대기\n",
    "\n",
    "html = res.page_source\n",
    "soup = BeautifulSoup(html, 'html.parser')\n",
    "\n",
    "items = soup.findAll('div', attrs={\"class\":\"story-entry__image-wrap\"})\n",
    "# print(items)\n",
    "\n",
    "for item in items:\n",
    "    temp = item.find('img',attrs={'class':'story-entry__image'})\n",
    "#     print(temp)\n",
    "    if temp != None:\n",
    "        item_img_url = temp['src']\n",
    "        item_name = item.find('span',attrs={'class':'story-entry__content__profile__name'})\n",
    "        print(item_img_url, item_name)\n",
    "    else:\n",
    "        continue\n",
    "#     item_name = temp['span']\n",
    "#     product = (item_name, item_img_url)\n",
    "#     writer.writerow(product)\n",
    "\n",
    "csv_file.close()"
   ]
  },
  {
   "cell_type": "code",
   "execution_count": 49,
   "id": "handy-liabilities",
   "metadata": {},
   "outputs": [
    {
     "name": "stdout",
     "output_type": "stream",
     "text": [
      "None\n",
      "None\n",
      "None\n",
      "None\n",
      "None\n",
      "None\n",
      "None\n",
      "None\n"
     ]
    }
   ],
   "source": [
    "import csv\n",
    "import time\n",
    "from bs4 import BeautifulSoup\n",
    "from selenium import webdriver\n",
    "from random import random \n",
    "\n",
    "filename = \"House.csv\"\n",
    "csv_file = open(filename, \"w\", encoding =\"utf-8-sig\")\n",
    "writer = csv.writer(csv_file)\n",
    "\n",
    "url = \"https://ohou.se/\"\n",
    "res = webdriver.Chrome(\"./chromedriver\")\n",
    "res.maximize_window()\n",
    "res.get(url)\n",
    "time.sleep(5)# 3초간 대기\n",
    "\n",
    "html = res.page_source\n",
    "soup = BeautifulSoup(html, 'html.parser')\n",
    "\n",
    "items = soup.findAll('li', attrs={\"class\":\"col-6 col-md-3 home-cards__content__item\"})\n",
    "# print(items)\n",
    "\n",
    "for item in items:\n",
    "    temp = item.find('img',attrs={'class':'story-entry__image'})\n",
    "    print(temp)\n",
    "    if temp != None:\n",
    "        item_img_url = temp['src']\n",
    "        item_name = item.find('span',attrs={'class':'story-entry__content__profile__name'})\n",
    "        print(item_img_url, item_name)\n",
    "    else:\n",
    "        continue\n",
    "#     item_name = temp['span']\n",
    "#     product = (item_name, item_img_url)\n",
    "#     writer.writerow(product)\n",
    "\n",
    "csv_file.close()"
   ]
  },
  {
   "cell_type": "code",
   "execution_count": null,
   "id": "unsigned-ballot",
   "metadata": {},
   "outputs": [],
   "source": []
  }
 ],
 "metadata": {
  "kernelspec": {
   "display_name": "Python 3",
   "language": "python",
   "name": "python3"
  },
  "language_info": {
   "codemirror_mode": {
    "name": "ipython",
    "version": 3
   },
   "file_extension": ".py",
   "mimetype": "text/x-python",
   "name": "python",
   "nbconvert_exporter": "python",
   "pygments_lexer": "ipython3",
   "version": "3.7.10"
  }
 },
 "nbformat": 4,
 "nbformat_minor": 5
}
